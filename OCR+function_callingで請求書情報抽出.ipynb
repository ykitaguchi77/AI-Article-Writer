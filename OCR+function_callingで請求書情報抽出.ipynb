{
  "nbformat": 4,
  "nbformat_minor": 0,
  "metadata": {
    "colab": {
      "provenance": [],
      "include_colab_link": true
    },
    "kernelspec": {
      "name": "python3",
      "display_name": "Python 3"
    },
    "language_info": {
      "name": "python"
    }
  },
  "cells": [
    {
      "cell_type": "markdown",
      "metadata": {
        "id": "view-in-github",
        "colab_type": "text"
      },
      "source": [
        "<a href=\"https://colab.research.google.com/github/ykitaguchi77/AI-Article-Writer/blob/main/OCR%2Bfunction_calling%E3%81%A6%E3%82%99%E8%AB%8B%E6%B1%82%E6%9B%B8%E6%83%85%E5%A0%B1%E6%8A%BD%E5%87%BA.ipynb\" target=\"_parent\"><img src=\"https://colab.research.google.com/assets/colab-badge.svg\" alt=\"Open In Colab\"/></a>"
      ]
    },
    {
      "cell_type": "code",
      "source": [
        "# OpenAI APIキーの設定\n",
        "openai_key = \"\" #@param {type:\"string\"}\n",
        "\n",
        "# 環境変数に設定\n",
        "import os\n",
        "os.environ['OPENAI_API_KEY'] = openai_key"
      ],
      "metadata": {
        "id": "HeGKvikvZbt-"
      },
      "execution_count": null,
      "outputs": []
    },
    {
      "cell_type": "code",
      "source": [
        "!apt-get install poppler-utils"
      ],
      "metadata": {
        "colab": {
          "base_uri": "https://localhost:8080/"
        },
        "id": "B7cTiNSPEQja",
        "outputId": "fae6b7d4-36f6-4b78-b3f8-79beb324c3e6"
      },
      "execution_count": 3,
      "outputs": [
        {
          "output_type": "stream",
          "name": "stdout",
          "text": [
            "Reading package lists... Done\n",
            "Building dependency tree... Done\n",
            "Reading state information... Done\n",
            "The following NEW packages will be installed:\n",
            "  poppler-utils\n",
            "0 upgraded, 1 newly installed, 0 to remove and 11 not upgraded.\n",
            "Need to get 186 kB of archives.\n",
            "After this operation, 696 kB of additional disk space will be used.\n",
            "Ign:1 http://archive.ubuntu.com/ubuntu jammy-updates/main amd64 poppler-utils amd64 22.02.0-2ubuntu0.2\n",
            "Err:1 http://security.ubuntu.com/ubuntu jammy-updates/main amd64 poppler-utils amd64 22.02.0-2ubuntu0.2\n",
            "  404  Not Found [IP: 91.189.91.81 80]\n",
            "E: Failed to fetch http://security.ubuntu.com/ubuntu/pool/main/p/poppler/poppler-utils_22.02.0-2ubuntu0.2_amd64.deb  404  Not Found [IP: 91.189.91.81 80]\n",
            "E: Unable to fetch some archives, maybe run apt-get update or try with --fix-missing?\n"
          ]
        }
      ]
    },
    {
      "cell_type": "code",
      "execution_count": null,
      "metadata": {
        "id": "0tZcJWi4UreC"
      },
      "outputs": [],
      "source": [
        "!pip install openai\n",
        "!pip install paddlepaddle paddleocr\n",
        "!pip install pdf2image\n",
        "!apt-get install -y poppler-utils"
      ]
    },
    {
      "cell_type": "code",
      "source": [
        "# paddleOCRを使えるように ref: https://stackoverflow.com/questions/76728440/not-able-to-import-paddleocr-library-on-google-colab\n",
        "!wget http://archive.ubuntu.com/ubuntu/pool/main/o/openssl/libssl1.1_1.1.0g-2ubuntu4_amd64.deb\n",
        "!sudo dpkg -i libssl1.1_1.1.0g-2ubuntu4_amd64.deb"
      ],
      "metadata": {
        "id": "a3b_pqdjmxS4"
      },
      "execution_count": null,
      "outputs": []
    },
    {
      "cell_type": "code",
      "source": [
        "from paddleocr import PaddleOCR, draw_ocr\n",
        "from pdf2image import convert_from_path\n",
        "from google.colab import files\n",
        "from PIL import Image"
      ],
      "metadata": {
        "id": "cBhDEOtuXpUS"
      },
      "execution_count": null,
      "outputs": []
    },
    {
      "cell_type": "code",
      "source": [
        "uploaded = files.upload()\n",
        "pdf_path = next(iter(uploaded.keys()))"
      ],
      "metadata": {
        "colab": {
          "base_uri": "https://localhost:8080/",
          "height": 201
        },
        "id": "GWvzmfwXXxJn",
        "outputId": "fd27e225-dff7-4741-9da6-4c5cb7fa4b72"
      },
      "execution_count": 1,
      "outputs": [
        {
          "output_type": "error",
          "ename": "NameError",
          "evalue": "ignored",
          "traceback": [
            "\u001b[0;31m---------------------------------------------------------------------------\u001b[0m",
            "\u001b[0;31mNameError\u001b[0m                                 Traceback (most recent call last)",
            "\u001b[0;32m<ipython-input-1-f79aed04769f>\u001b[0m in \u001b[0;36m<cell line: 1>\u001b[0;34m()\u001b[0m\n\u001b[0;32m----> 1\u001b[0;31m \u001b[0muploaded\u001b[0m \u001b[0;34m=\u001b[0m \u001b[0mfiles\u001b[0m\u001b[0;34m.\u001b[0m\u001b[0mupload\u001b[0m\u001b[0;34m(\u001b[0m\u001b[0;34m)\u001b[0m\u001b[0;34m\u001b[0m\u001b[0;34m\u001b[0m\u001b[0m\n\u001b[0m\u001b[1;32m      2\u001b[0m \u001b[0mpdf_path\u001b[0m \u001b[0;34m=\u001b[0m \u001b[0mnext\u001b[0m\u001b[0;34m(\u001b[0m\u001b[0miter\u001b[0m\u001b[0;34m(\u001b[0m\u001b[0muploaded\u001b[0m\u001b[0;34m.\u001b[0m\u001b[0mkeys\u001b[0m\u001b[0;34m(\u001b[0m\u001b[0;34m)\u001b[0m\u001b[0;34m)\u001b[0m\u001b[0;34m)\u001b[0m\u001b[0;34m\u001b[0m\u001b[0;34m\u001b[0m\u001b[0m\n",
            "\u001b[0;31mNameError\u001b[0m: name 'files' is not defined"
          ]
        }
      ]
    },
    {
      "cell_type": "code",
      "source": [
        "# PDFを画像に変換\n",
        "images = convert_from_path(pdf_path)\n",
        "\n",
        "# OCRモデルの初期化\n",
        "ocr = PaddleOCR(lang='japan')\n",
        "results = []\n",
        "for i, image in enumerate(images, start=1):\n",
        "    print(f\"Processing page {i}\")\n",
        "    image_path = f'{i}.png'\n",
        "    image.save(image_path, 'PNG')\n",
        "    result = ocr.ocr(image_path)\n",
        "    results.append(result)"
      ],
      "metadata": {
        "colab": {
          "base_uri": "https://localhost:8080/"
        },
        "id": "VVAmNaFjYHqw",
        "outputId": "30ab190c-cd56-49c5-f9c1-b1d5b3d0cc96"
      },
      "execution_count": null,
      "outputs": [
        {
          "output_type": "stream",
          "name": "stdout",
          "text": [
            "[2023/07/12 06:57:49] ppocr DEBUG: Namespace(help='==SUPPRESS==', use_gpu=False, use_xpu=False, use_npu=False, ir_optim=True, use_tensorrt=False, min_subgraph_size=15, precision='fp32', gpu_mem=500, image_dir=None, page_num=0, det_algorithm='DB', det_model_dir='/root/.paddleocr/whl/det/ml/Multilingual_PP-OCRv3_det_infer', det_limit_side_len=960, det_limit_type='max', det_box_type='quad', det_db_thresh=0.3, det_db_box_thresh=0.6, det_db_unclip_ratio=1.5, max_batch_size=10, use_dilation=False, det_db_score_mode='fast', det_east_score_thresh=0.8, det_east_cover_thresh=0.1, det_east_nms_thresh=0.2, det_sast_score_thresh=0.5, det_sast_nms_thresh=0.2, det_pse_thresh=0, det_pse_box_thresh=0.85, det_pse_min_area=16, det_pse_scale=1, scales=[8, 16, 32], alpha=1.0, beta=1.0, fourier_degree=5, rec_algorithm='SVTR_LCNet', rec_model_dir='/root/.paddleocr/whl/rec/japan/japan_PP-OCRv3_rec_infer', rec_image_inverse=True, rec_image_shape='3, 48, 320', rec_batch_num=6, max_text_length=25, rec_char_dict_path='/usr/local/lib/python3.10/dist-packages/paddleocr/ppocr/utils/dict/japan_dict.txt', use_space_char=True, vis_font_path='./doc/fonts/simfang.ttf', drop_score=0.5, e2e_algorithm='PGNet', e2e_model_dir=None, e2e_limit_side_len=768, e2e_limit_type='max', e2e_pgnet_score_thresh=0.5, e2e_char_dict_path='./ppocr/utils/ic15_dict.txt', e2e_pgnet_valid_set='totaltext', e2e_pgnet_mode='fast', use_angle_cls=False, cls_model_dir='/root/.paddleocr/whl/cls/ch_ppocr_mobile_v2.0_cls_infer', cls_image_shape='3, 48, 192', label_list=['0', '180'], cls_batch_num=6, cls_thresh=0.9, enable_mkldnn=False, cpu_threads=10, use_pdserving=False, warmup=False, sr_model_dir=None, sr_image_shape='3, 32, 128', sr_batch_num=1, draw_img_save_dir='./inference_results', save_crop_res=False, crop_res_save_dir='./output', use_mp=False, total_process_num=1, process_id=0, benchmark=False, save_log_path='./log_output/', show_log=True, use_onnx=False, output='./output', table_max_len=488, table_algorithm='TableAttn', table_model_dir=None, merge_no_span_structure=True, table_char_dict_path=None, layout_model_dir=None, layout_dict_path=None, layout_score_threshold=0.5, layout_nms_threshold=0.5, kie_algorithm='LayoutXLM', ser_model_dir=None, re_model_dir=None, use_visual_backbone=True, ser_dict_path='../train_data/XFUND/class_list_xfun.txt', ocr_order_method=None, mode='structure', image_orientation=False, layout=True, table=True, ocr=True, recovery=False, use_pdf2docx_api=False, lang='japan', det=True, rec=True, type='ocr', ocr_version='PP-OCRv3', structure_version='PP-StructureV2')\n",
            "Processing page 1\n",
            "[2023/07/12 06:57:50] ppocr WARNING: Since the angle classifier is not initialized, the angle classifier will not be uesd during the forward process\n",
            "[2023/07/12 06:57:51] ppocr DEBUG: dt_boxes num : 52, elapse : 0.7776784896850586\n",
            "[2023/07/12 06:57:56] ppocr DEBUG: rec_res num  : 52, elapse : 4.326416254043579\n",
            "[[[[718.0, 161.0], [926.0, 155.0], [928.0, 209.0], [719.0, 215.0]], ('請求書', 0.9995667338371277)], [[[170.0, 278.0], [406.0, 278.0], [406.0, 319.0], [170.0, 319.0]], ('株式会社クロ', 0.9278193116188049)], [[[403.0, 280.0], [659.0, 280.0], [659.0, 314.0], [403.0, 314.0]], ('一ズドエーアイ', 0.9738664627075195)], [[[711.0, 275.0], [785.0, 275.0], [785.0, 314.0], [711.0, 314.0]], ('御中', 0.9999386668205261)], [[[1036.0, 280.0], [1149.0, 280.0], [1149.0, 314.0], [1036.0, 314.0]], ('請求No.', 0.9852831959724426)], [[[1333.0, 283.0], [1498.0, 283.0], [1498.0, 309.0], [1333.0, 309.0]], ('202306300', 0.9999473094940186)], [[[1033.0, 361.0], [1129.0, 361.0], [1129.0, 395.0], [1033.0, 395.0]], ('請求日', 0.9983153343200684)], [[[1353.0, 363.0], [1505.0, 363.0], [1505.0, 390.0], [1353.0, 390.0]], ('2023/06/30', 0.9979280233383179)], [[[199.0, 458.0], [288.0, 458.0], [288.0, 495.0], [199.0, 495.0]], ('件名:', 0.9440765380859375)], [[[307.0, 460.0], [696.0, 460.0], [696.0, 495.0], [307.0, 495.0]], ('Kawaiiコンサルのニ請求', 0.9416190981864929)], [[[957.0, 463.0], [1127.0, 463.0], [1127.0, 497.0], [957.0, 497.0]], ('逆瀬川ささみ', 0.9997060894966125)], [[[236.0, 524.0], [374.0, 524.0], [374.0, 551.0], [236.0, 551.0]], ('下記の通り', 0.9996530413627625)], [[[394.0, 521.0], [664.0, 521.0], [664.0, 556.0], [394.0, 556.0]], ('ご請求申し上げます', 0.991966962814331)], [[[962.0, 524.0], [1077.0, 524.0], [1077.0, 551.0], [962.0, 551.0]], ('111-1234', 0.924681544303894)], [[[959.0, 575.0], [1215.0, 575.0], [1215.0, 609.0], [959.0, 609.0]], ('東京都文京区左京', 0.9997655749320984)], [[[1213.0, 577.0], [1284.0, 577.0], [1284.0, 604.0], [1213.0, 604.0]], ('1-1-1', 0.916629433631897)], [[[957.0, 626.0], [1257.0, 626.0], [1257.0, 660.0], [957.0, 660.0]], ('美少女ハウス101号室', 0.9995784163475037)], [[[1033.0, 682.0], [1097.0, 682.0], [1097.0, 709.0], [1033.0, 709.0]], ('TEL:', 0.897530198097229)], [[[1114.0, 680.0], [1331.0, 680.0], [1331.0, 711.0], [1114.0, 711.0]], ('090-0000-0000', 0.9991236925125122)], [[[187.0, 767.0], [335.0, 767.0], [335.0, 809.0], [187.0, 809.0]], ('合計金額', 0.9943561553955078)], [[[480.0, 772.0], [598.0, 772.0], [598.0, 806.0], [480.0, 806.0]], ('399,459', 0.8992303609848022)], [[[716.0, 772.0], [802.0, 772.0], [802.0, 806.0], [716.0, 806.0]], ('(税込)', 0.9962342977523804)], [[[927.0, 777.0], [1092.0, 777.0], [1092.0, 802.0], [927.0, 802.0]], ('お支払期限', 0.9832066297531128)], [[[1237.0, 775.0], [1382.0, 775.0], [1382.0, 802.0], [1237.0, 802.0]], ('2023/07/3-', 0.9810504913330078)], [[[153.0, 880.0], [202.0, 880.0], [202.0, 906.0], [153.0, 906.0]], ('No.', 0.9999706745147705)], [[[514.0, 877.0], [566.0, 877.0], [566.0, 906.0], [514.0, 906.0]], ('品名', 0.9999610781669617)], [[[918.0, 877.0], [974.0, 877.0], [974.0, 906.0], [918.0, 906.0]], ('数量', 0.9637695550918579)], [[[1119.0, 877.0], [1178.0, 877.0], [1178.0, 904.0], [1119.0, 904.0]], ('単価', 0.9928528666496277)], [[[1363.0, 877.0], [1422.0, 877.0], [1422.0, 906.0], [1363.0, 906.0]], ('金額', 0.9998805522918701)], [[[197.0, 933.0], [428.0, 933.0], [428.0, 965.0], [197.0, 965.0]], ('IKawaiiコンサル', 0.9121692180633545)], [[[957.0, 936.0], [1018.0, 936.0], [1018.0, 965.0], [957.0, 965.0]], ('時間', 0.9999316334724426)], [[[1149.0, 936.0], [1255.0, 936.0], [1255.0, 962.0], [1149.0, 962.0]], ('100,000', 0.9998660683631897)], [[[1409.0, 936.0], [1513.0, 936.0], [1513.0, 962.0], [1409.0, 962.0]], ('400,000', 0.9993242621421814)], [[[194.0, 984.0], [347.0, 984.0], [347.0, 1018.0], [194.0, 1018.0]], ('2おやつ代', 0.9961718320846558)], [[[1203.0, 987.0], [1255.0, 987.0], [1255.0, 1016.0], [1203.0, 1016.0]], ('300', 0.9999983906745911)], [[[1464.0, 989.0], [1513.0, 989.0], [1513.0, 1016.0], [1464.0, 1016.0]], ('300', 0.9999834895133972)], [[[1215.0, 1518.0], [1267.0, 1518.0], [1267.0, 1547.0], [1215.0, 1547.0]], ('小計', 0.9991540908813477)], [[[1405.0, 1515.0], [1515.0, 1515.0], [1515.0, 1542.0], [1405.0, 1542.0]], ('400,300', 0.9999728798866272)], [[[1188.0, 1569.0], [1267.0, 1569.0], [1267.0, 1596.0], [1188.0, 1596.0]], ('消費税', 0.9999885559082031)], [[[1424.0, 1569.0], [1513.0, 1569.0], [1513.0, 1596.0], [1424.0, 1596.0]], ('40,030', 0.9999663233757019)], [[[1068.0, 1620.0], [1267.0, 1620.0], [1267.0, 1652.0], [1068.0, 1652.0]], ('源泉徴収・復興税', 0.9323961734771729)], [[[1422.0, 1623.0], [1505.0, 1623.0], [1505.0, 1649.0], [1422.0, 1649.0]], ('40,871', 0.9990005493164062)], [[[1122.0, 1674.0], [1176.0, 1674.0], [1176.0, 1703.0], [1122.0, 1703.0]], ('合計', 0.9530573487281799)], [[[1407.0, 1676.0], [1513.0, 1676.0], [1513.0, 1703.0], [1407.0, 1703.0]], ('399,459', 0.9884048700332642)], [[[143.0, 1725.0], [273.0, 1725.0], [273.0, 1759.0], [143.0, 1759.0]], ('お振込先', 0.9982183575630188)], [[[221.0, 1774.0], [359.0, 1774.0], [359.0, 1808.0], [221.0, 1808.0]], ('さかせ銀行', 0.9999799728393555)], [[[467.0, 1776.0], [585.0, 1776.0], [585.0, 1810.0], [467.0, 1810.0]], ('東京支店', 0.9996397495269775)], [[[226.0, 1830.0], [283.0, 1830.0], [283.0, 1866.0], [226.0, 1866.0]], ('普通', 0.9994064569473267)], [[[231.0, 1886.0], [364.0, 1886.0], [364.0, 1913.0], [231.0, 1913.0]], ('11922960', 0.9853362441062927)], [[[229.0, 1935.0], [455.0, 1935.0], [455.0, 1966.0], [229.0, 1966.0]], ('サカセガワササミ', 0.9982882142066956)], [[[182.0, 2066.0], [248.0, 2066.0], [248.0, 2103.0], [182.0, 2103.0]], ('備考', 0.989359974861145)]]\n"
          ]
        }
      ]
    },
    {
      "cell_type": "code",
      "source": [
        "ocr_info = \"\"\n",
        "for r in results[0][0]:\n",
        "    # ocr_info += f\"{r[0][0]}: {r[1][0]}\\n\"\n",
        "    ocr_info += f\"({r[0][0][0]}, {r[0][0][1]}): {r[1][0]}\\n\""
      ],
      "metadata": {
        "id": "FEQs3WjRYgOn"
      },
      "execution_count": null,
      "outputs": []
    },
    {
      "cell_type": "code",
      "source": [
        "print(ocr_info)"
      ],
      "metadata": {
        "colab": {
          "base_uri": "https://localhost:8080/"
        },
        "id": "JjvT8LUwabAu",
        "outputId": "ca5a29cd-163c-4d5c-a3c8-c578d253f273"
      },
      "execution_count": null,
      "outputs": [
        {
          "output_type": "stream",
          "name": "stdout",
          "text": [
            "(718.0, 161.0): 請求書\n",
            "(170.0, 278.0): 株式会社クロ\n",
            "(403.0, 280.0): 一ズドエーアイ\n",
            "(711.0, 275.0): 御中\n",
            "(1036.0, 280.0): 請求No.\n",
            "(1333.0, 283.0): 202306300\n",
            "(1033.0, 361.0): 請求日\n",
            "(1353.0, 363.0): 2023/06/30\n",
            "(199.0, 458.0): 件名:\n",
            "(307.0, 460.0): Kawaiiコンサルのニ請求\n",
            "(957.0, 463.0): 逆瀬川ささみ\n",
            "(236.0, 524.0): 下記の通り\n",
            "(394.0, 521.0): ご請求申し上げます\n",
            "(962.0, 524.0): 111-1234\n",
            "(959.0, 575.0): 東京都文京区左京\n",
            "(1213.0, 577.0): 1-1-1\n",
            "(957.0, 626.0): 美少女ハウス101号室\n",
            "(1033.0, 682.0): TEL:\n",
            "(1114.0, 680.0): 090-0000-0000\n",
            "(187.0, 767.0): 合計金額\n",
            "(480.0, 772.0): 399,459\n",
            "(716.0, 772.0): (税込)\n",
            "(927.0, 777.0): お支払期限\n",
            "(1237.0, 775.0): 2023/07/3-\n",
            "(153.0, 880.0): No.\n",
            "(514.0, 877.0): 品名\n",
            "(918.0, 877.0): 数量\n",
            "(1119.0, 877.0): 単価\n",
            "(1363.0, 877.0): 金額\n",
            "(197.0, 933.0): IKawaiiコンサル\n",
            "(957.0, 936.0): 時間\n",
            "(1149.0, 936.0): 100,000\n",
            "(1409.0, 936.0): 400,000\n",
            "(194.0, 984.0): 2おやつ代\n",
            "(1203.0, 987.0): 300\n",
            "(1464.0, 989.0): 300\n",
            "(1215.0, 1518.0): 小計\n",
            "(1405.0, 1515.0): 400,300\n",
            "(1188.0, 1569.0): 消費税\n",
            "(1424.0, 1569.0): 40,030\n",
            "(1068.0, 1620.0): 源泉徴収・復興税\n",
            "(1422.0, 1623.0): 40,871\n",
            "(1122.0, 1674.0): 合計\n",
            "(1407.0, 1676.0): 399,459\n",
            "(143.0, 1725.0): お振込先\n",
            "(221.0, 1774.0): さかせ銀行\n",
            "(467.0, 1776.0): 東京支店\n",
            "(226.0, 1830.0): 普通\n",
            "(231.0, 1886.0): 11922960\n",
            "(229.0, 1935.0): サカセガワササミ\n",
            "(182.0, 2066.0): 備考\n",
            "\n"
          ]
        }
      ]
    },
    {
      "cell_type": "code",
      "source": [
        "messages = [\n",
        "    {\"role\": \"user\", \"content\": ocr_info}\n",
        "]"
      ],
      "metadata": {
        "id": "HxCb3UPpaFsD"
      },
      "execution_count": null,
      "outputs": []
    },
    {
      "cell_type": "code",
      "source": [
        "functions = [\n",
        "    {\n",
        "        \"name\": \"invoice_information_extraction\",\n",
        "        \"description\": \"\"\"これは請求書のpdfをOCRにかけたものから情報を抽出するための処理です。\n",
        "        OCRで抽出されたテキストは以下の形式に従います\n",
        "        (x座標, y座標): {OCRで抽出されたテキスト}\n",
        "\n",
        "        また、請求書は以下の配置ルールがあります。\n",
        "        - 銀行名、支店名、口座種類、口座番号は近い位置にある\n",
        "        - 住所、会社名、名前、電話番号、メールアドレスは近い位置にある\n",
        "        - 郵便番号、住所は近い位置にある\n",
        "        - 請求先は「御中」や「様」などの左に書かれる\n",
        "        \"\"\",\n",
        "        \"parameters\": {\n",
        "            \"type\": \"object\",\n",
        "            \"properties\": {\n",
        "                \"invoice_date\": {\n",
        "                    \"type\": \"string\",\n",
        "                    \"description\": \"請求日\"\n",
        "                },\n",
        "                \"invoice_number\": {\n",
        "                    \"type\": \"string\",\n",
        "                    \"description\": \"請求番号\"\n",
        "                },\n",
        "                \"invoice_to\": {\n",
        "                    \"type\": \"string\",\n",
        "                    \"description\": \"請求先 (御中とか様は除外する)\"\n",
        "                },\n",
        "                \"invoice_items\": {\n",
        "                    \"type\": \"array\",\n",
        "                    \"description\": \"請求品目\",\n",
        "                    \"items\": {\n",
        "                        \"type\": \"object\",\n",
        "                        \"properties\": {\n",
        "                            \"item_name\": {\n",
        "                                \"type\": \"string\",\n",
        "                                \"description\": \"請求品目名\"\n",
        "                            },\n",
        "                            \"item_count\": {\n",
        "                                \"type\": \"number\",\n",
        "                                \"description\": \"品目数量\"\n",
        "                            },\n",
        "                            \"item_unit_name\": {\n",
        "                                \"type\": \"string\",\n",
        "                                \"description\": \"品目単位名\"\n",
        "                            },\n",
        "                            \"item_unit_price\": {\n",
        "                                \"type\": \"number\",\n",
        "                                \"description\": \"品目単価\"\n",
        "                            },\n",
        "                            \"item_price\": {\n",
        "                                \"type\": \"number\",\n",
        "                                \"description\": \"品目金額\"\n",
        "                            }\n",
        "                        }\n",
        "                    }\n",
        "                },\n",
        "                \"total_amount\": {\n",
        "                    \"type\": \"number\",\n",
        "                    \"description\": \"総額\"\n",
        "                },\n",
        "                \"bank_name\": {\n",
        "                    \"type\": \"string\",\n",
        "                    \"description\": \"銀行名\"\n",
        "                },\n",
        "                \"branch_name\": {\n",
        "                    \"type\": \"string\",\n",
        "                    \"description\": \"支店名\"\n",
        "                },\n",
        "                \"account_type\": {\n",
        "                    \"type\": \"string\",\n",
        "                    \"enum\": [\"普通\", \"定期\", \"当座\"],\n",
        "                    \"description\": \"口座種類\"\n",
        "                },\n",
        "                \"account_number\": {\n",
        "                    \"type\": \"string\",\n",
        "                    \"description\": \"口座番号\"\n",
        "                },\n",
        "                \"zipcode\": {\n",
        "                    \"type\": \"string\",\n",
        "                    \"description\": \"郵便番号\"\n",
        "                },\n",
        "                \"address\": {\n",
        "                    \"type\": \"string\",\n",
        "                    \"description\": \"住所\"\n",
        "                },\n",
        "                \"company_name\": {\n",
        "                    \"type\": \"string\",\n",
        "                    \"description\": \"会社名\"\n",
        "                },\n",
        "                \"name\": {\n",
        "                    \"type\": \"string\",\n",
        "                    \"description\": \"名前\"\n",
        "                },\n",
        "                \"phone_number\": {\n",
        "                    \"type\": \"string\",\n",
        "                    \"description\": \"電話番号\"\n",
        "                },\n",
        "                \"email_address\": {\n",
        "                    \"type\": \"string\",\n",
        "                    \"description\": \"メールアドレス\"\n",
        "                },\n",
        "                \"remarks\": {\n",
        "                    \"type\": \"string\",\n",
        "                    \"description\": \"備考\"\n",
        "                }\n",
        "            },\n",
        "            \"required\": [\"invoice_date\"]\n",
        "        }\n",
        "    }\n",
        "]"
      ],
      "metadata": {
        "id": "Yc74S2BIZ1Br"
      },
      "execution_count": 4,
      "outputs": []
    },
    {
      "cell_type": "code",
      "source": [
        "import openai\n",
        "response = openai.ChatCompletion.create(\n",
        "    # model=\"gpt-4-0613\",\n",
        "    model=\"gpt-3.5-turbo-0613\",\n",
        "    messages=messages,\n",
        "    functions=functions,\n",
        "    temperature=0,\n",
        "    max_tokens=512,\n",
        "    function_call={\"name\": \"invoice_information_extraction\"}  # auto is default, but we'll be explicit\n",
        ")"
      ],
      "metadata": {
        "id": "8uFKzlz6ZmTv"
      },
      "execution_count": null,
      "outputs": []
    },
    {
      "cell_type": "code",
      "source": [
        "print(response[\"choices\"][0][\"message\"][\"function_call\"][\"arguments\"])"
      ],
      "metadata": {
        "colab": {
          "base_uri": "https://localhost:8080/"
        },
        "id": "PXTPmxUJeeyp",
        "outputId": "83afb24c-02f5-43ef-a9f2-a2b88ca7a511"
      },
      "execution_count": null,
      "outputs": [
        {
          "output_type": "stream",
          "name": "stdout",
          "text": [
            "{\n",
            "  \"invoice_date\": \"2023/06/30\",\n",
            "  \"invoice_number\": \"202306300\",\n",
            "  \"invoice_to\": \"株式会社クロ一ズドエーアイ\",\n",
            "  \"invoice_items\": [\n",
            "    {\n",
            "      \"item_name\": \"Kawaiiコンサルのニ請求\",\n",
            "      \"item_count\": 1,\n",
            "      \"item_unit_name\": \"時間\",\n",
            "      \"item_unit_price\": 100000,\n",
            "      \"item_price\": 100000\n",
            "    },\n",
            "    {\n",
            "      \"item_name\": \"おやつ代\",\n",
            "      \"item_count\": 2,\n",
            "      \"item_unit_name\": \"個\",\n",
            "      \"item_unit_price\": 150,\n",
            "      \"item_price\": 300\n",
            "    }\n",
            "  ],\n",
            "  \"total_amount\": 399459,\n",
            "  \"bank_name\": \"さかせ銀行\",\n",
            "  \"branch_name\": \"東京支店\",\n",
            "  \"account_type\": \"普通\",\n",
            "  \"account_number\": \"11922960\",\n",
            "  \"zipcode\": \"111-1234\",\n",
            "  \"address\": \"東京都文京区左京1-1-1\",\n",
            "  \"company_name\": \"株式会社クロ一ズドエーアイ\",\n",
            "  \"name\": \"逆瀬川ささみ\",\n",
            "  \"phone_number\": \"090-0000-0000\",\n",
            "  \"remarks\": \"\"\n",
            "}\n"
          ]
        }
      ]
    }
  ]
}