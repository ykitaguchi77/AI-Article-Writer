{
  "nbformat": 4,
  "nbformat_minor": 0,
  "metadata": {
    "colab": {
      "provenance": [],
      "authorship_tag": "ABX9TyOVKM56goMVKGLD9o+1RVjo",
      "include_colab_link": true
    },
    "kernelspec": {
      "name": "python3",
      "display_name": "Python 3"
    },
    "language_info": {
      "name": "python"
    }
  },
  "cells": [
    {
      "cell_type": "markdown",
      "metadata": {
        "id": "view-in-github",
        "colab_type": "text"
      },
      "source": [
        "<a href=\"https://colab.research.google.com/github/ykitaguchi77/AI-Article-Writer/blob/main/Pubmed_classifier.ipynb\" target=\"_parent\"><img src=\"https://colab.research.google.com/assets/colab-badge.svg\" alt=\"Open In Colab\"/></a>"
      ]
    },
    {
      "cell_type": "markdown",
      "source": [
        "#**PubMed論文分類**\n",
        "\n",
        "1. PubMedで検索したものをsave (all results, abstract<text>)してダウンロードする\n",
        "\n",
        "2. article_list.txtとリネームしてcontent配下にアップロードする"
      ],
      "metadata": {
        "id": "1TOff2q4ntrg"
      }
    },
    {
      "cell_type": "code",
      "execution_count": 1,
      "metadata": {
        "colab": {
          "base_uri": "https://localhost:8080/",
          "height": 221
        },
        "id": "ns8nD1f1npYX",
        "outputId": "cf319692-d933-4349-b3d1-e3bfe5a385a3"
      },
      "outputs": [
        {
          "output_type": "error",
          "ename": "FileNotFoundError",
          "evalue": "[Errno 2] No such file or directory: 'article_list.txt'",
          "traceback": [
            "\u001b[0;31m---------------------------------------------------------------------------\u001b[0m",
            "\u001b[0;31mFileNotFoundError\u001b[0m                         Traceback (most recent call last)",
            "\u001b[0;32m<ipython-input-1-1d8fbf60acf7>\u001b[0m in \u001b[0;36m<cell line: 56>\u001b[0;34m()\u001b[0m\n\u001b[1;32m     56\u001b[0m \u001b[0;32mif\u001b[0m \u001b[0m__name__\u001b[0m \u001b[0;34m==\u001b[0m \u001b[0;34m\"__main__\"\u001b[0m\u001b[0;34m:\u001b[0m\u001b[0;34m\u001b[0m\u001b[0;34m\u001b[0m\u001b[0m\n\u001b[1;32m     57\u001b[0m     \u001b[0;31m# Read the input file\u001b[0m\u001b[0;34m\u001b[0m\u001b[0;34m\u001b[0m\u001b[0m\n\u001b[0;32m---> 58\u001b[0;31m     \u001b[0;32mwith\u001b[0m \u001b[0mopen\u001b[0m\u001b[0;34m(\u001b[0m\u001b[0;34m'article_list.txt'\u001b[0m\u001b[0;34m,\u001b[0m \u001b[0;34m'r'\u001b[0m\u001b[0;34m,\u001b[0m \u001b[0mencoding\u001b[0m\u001b[0;34m=\u001b[0m\u001b[0;34m'utf-8'\u001b[0m\u001b[0;34m)\u001b[0m \u001b[0;32mas\u001b[0m \u001b[0mfile\u001b[0m\u001b[0;34m:\u001b[0m\u001b[0;34m\u001b[0m\u001b[0;34m\u001b[0m\u001b[0m\n\u001b[0m\u001b[1;32m     59\u001b[0m         \u001b[0mtext\u001b[0m \u001b[0;34m=\u001b[0m \u001b[0mfile\u001b[0m\u001b[0;34m.\u001b[0m\u001b[0mread\u001b[0m\u001b[0;34m(\u001b[0m\u001b[0;34m)\u001b[0m\u001b[0;34m\u001b[0m\u001b[0;34m\u001b[0m\u001b[0m\n\u001b[1;32m     60\u001b[0m \u001b[0;34m\u001b[0m\u001b[0m\n",
            "\u001b[0;31mFileNotFoundError\u001b[0m: [Errno 2] No such file or directory: 'article_list.txt'"
          ]
        }
      ],
      "source": [
        "import re\n",
        "import csv\n",
        "from typing import List, Dict\n",
        "import pandas as pd\n",
        "\n",
        "def split_into_items(text: str) -> List[str]:\n",
        "    \"\"\"Split the text into items based on double newlines.\"\"\"\n",
        "    return [item.strip() for item in re.split(r'\\n\\n+', text) if item.strip()]\n",
        "\n",
        "def clean_authors(authors: str) -> str:\n",
        "    \"\"\"Remove numbered brackets from the authors string.\"\"\"\n",
        "    return re.sub(r'\\(\\d+\\)', '', authors).replace('  ', ' ').strip()\n",
        "\n",
        "def extract_article_info(items: List[str]) -> Dict[str, str]:\n",
        "    \"\"\"Extract relevant information from a list of items.\"\"\"\n",
        "    info = {\n",
        "        'Title': '',\n",
        "        'Authors': '',\n",
        "        'DOI': '',\n",
        "        'PMID': '',\n",
        "        'Abstract': ''\n",
        "    }\n",
        "\n",
        "    abstract_keywords = r'PURPOSE|BACKGROUND|OBJECTIVE|ABSTRACT|OBJECTIVES|case|CONCLUSION'\n",
        "\n",
        "    for i, item in enumerate(items):\n",
        "        if re.search(r'\\(\\d+\\)[,.]', item):\n",
        "            info['Authors'] = clean_authors(item)\n",
        "            if i > 0:\n",
        "                info['Title'] = items[i-1]\n",
        "        elif re.match(abstract_keywords, item, re.IGNORECASE) and item != info['Title']:\n",
        "            info['Abstract'] = item\n",
        "\n",
        "    # Extract DOI and PMID from the full text\n",
        "    full_text = '\\n'.join(items)\n",
        "    doi_match = re.search(r'DOI: (.*?)(?:\\n|$)', full_text)\n",
        "    if doi_match:\n",
        "        info['DOI'] = doi_match.group(1).strip()\n",
        "\n",
        "    pmid_match = re.search(r'PMID: (\\d+)', full_text)\n",
        "    if pmid_match:\n",
        "        info['PMID'] = pmid_match.group(1).strip()\n",
        "\n",
        "    return info\n",
        "\n",
        "def parse_pubmed_text(text: str) -> List[Dict[str, str]]:\n",
        "    \"\"\"Parse the entire PubMed text and extract information for each article.\"\"\"\n",
        "    articles = re.split(r'\\n\\n\\d+\\.', text)[1:]  # Split the text into individual articles\n",
        "    return [extract_article_info(split_into_items(article.strip())) for article in articles]\n",
        "\n",
        "def write_to_csv(df: pd.DataFrame, filename: str):\n",
        "    \"\"\"Write the DataFrame to a CSV file.\"\"\"\n",
        "    df.to_csv(filename, index=False, encoding='utf-8')\n",
        "\n",
        "# Main execution\n",
        "if __name__ == \"__main__\":\n",
        "    # Read the input file\n",
        "    with open('article_list.txt', 'r', encoding='utf-8') as file:\n",
        "        text = file.read()\n",
        "\n",
        "    # Parse the text and extract article information\n",
        "    articles = parse_pubmed_text(text)\n",
        "\n",
        "    # Create a DataFrame\n",
        "    df = pd.DataFrame(articles)\n",
        "\n",
        "    # # Display the first few rows of the DataFrame\n",
        "    # print(df.head())\n",
        "\n",
        "    # # Display basic information about the DataFrame\n",
        "    # print(df.info())\n",
        "\n",
        "    # Write the DataFrame to a CSV file\n",
        "    write_to_csv(df, 'pubmed_articles.csv')\n",
        "\n",
        "    print(f\"CSV file 'pubmed_articles.csv' has been created with {len(articles)} articles.\")\n",
        "\n",
        "    df"
      ]
    },
    {
      "cell_type": "code",
      "source": [],
      "metadata": {
        "id": "N2B5BhP1oZyM"
      },
      "execution_count": null,
      "outputs": []
    },
    {
      "cell_type": "code",
      "source": [],
      "metadata": {
        "id": "VyMcRCsMhRSg"
      },
      "execution_count": null,
      "outputs": []
    },
    {
      "cell_type": "markdown",
      "source": [
        "#**Seach in PubMed using Biopython**"
      ],
      "metadata": {
        "id": "cIYV5deFiELj"
      }
    },
    {
      "cell_type": "code",
      "source": [
        "# 必要なライブラリをインストール\n",
        "!pip install biopython\n",
        "\n",
        "# ライブラリをインポート\n",
        "from Bio import Entrez\n",
        "import pandas as pd\n",
        "\n",
        "# Entrezにメールアドレスを設定（必須）\n",
        "Entrez.email = \"your_email@example.com\"  # 自分のメールアドレスに変更してください\n",
        "\n",
        "def search_pubmed(query, max_results=10):\n",
        "    # PubMedで検索を実行\n",
        "    handle = Entrez.esearch(db=\"pubmed\", term=query, retmax=max_results)\n",
        "    record = Entrez.read(handle)\n",
        "    handle.close()\n",
        "\n",
        "    # 検索結果からPMIDを取得\n",
        "    id_list = record[\"IdList\"]\n",
        "\n",
        "    results = []\n",
        "    for pmid in id_list:\n",
        "        # 各論文の詳細情報を取得\n",
        "        handle = Entrez.efetch(db=\"pubmed\", id=pmid, rettype=\"medline\", retmode=\"text\")\n",
        "        record = handle.read()\n",
        "        handle.close()\n",
        "\n",
        "        # 必要な情報を抽出\n",
        "        title = next((line for line in record.split('\\n') if line.startswith('TI  - ')), 'N/A')[6:]\n",
        "        authors = next((line for line in record.split('\\n') if line.startswith('AU  - ')), 'N/A')[6:]\n",
        "        journal = next((line for line in record.split('\\n') if line.startswith('TA  - ')), 'N/A')[6:]\n",
        "        pub_date = next((line for line in record.split('\\n') if line.startswith('DP  - ')), 'N/A')[6:]\n",
        "\n",
        "        results.append({\n",
        "            'PMID': pmid,\n",
        "            'Title': title,\n",
        "            'Authors': authors,\n",
        "            'Journal': journal,\n",
        "            'Publication Date': pub_date\n",
        "        })\n",
        "\n",
        "    return pd.DataFrame(results)\n",
        "\n",
        "# 検索クエリを設定\n",
        "search_query = \"artificial intelligence in healthcare\"  # 検索したいキーワードに変更してください\n",
        "max_results = 20  # 取得したい結果の最大数\n",
        "\n",
        "# 検索を実行\n",
        "results_df = search_pubmed(search_query, max_results)\n",
        "\n",
        "# 結果を表示\n",
        "print(results_df)\n",
        "\n",
        "# 結果をCSVファイルとして保存\n",
        "results_df.to_csv('pubmed_search_results.csv', index=False)\n",
        "print(\"Results saved to 'pubmed_search_results.csv'\")"
      ],
      "metadata": {
        "id": "f1crvjEohRUE",
        "outputId": "9448bfed-dbc0-4652-ac10-b6c8ab94c837",
        "colab": {
          "base_uri": "https://localhost:8080/"
        }
      },
      "execution_count": 2,
      "outputs": [
        {
          "output_type": "stream",
          "name": "stdout",
          "text": [
            "Collecting biopython\n",
            "  Downloading biopython-1.84-cp310-cp310-manylinux_2_17_x86_64.manylinux2014_x86_64.whl (3.2 MB)\n",
            "\u001b[2K     \u001b[90m━━━━━━━━━━━━━━━━━━━━━━━━━━━━━━━━━━━━━━━━\u001b[0m \u001b[32m3.2/3.2 MB\u001b[0m \u001b[31m17.5 MB/s\u001b[0m eta \u001b[36m0:00:00\u001b[0m\n",
            "\u001b[?25hRequirement already satisfied: numpy in /usr/local/lib/python3.10/dist-packages (from biopython) (1.25.2)\n",
            "Installing collected packages: biopython\n",
            "Successfully installed biopython-1.84\n",
            "        PMID                                              Title       Authors  \\\n",
            "0   39042446  Roles, Users, Benefits, and Limitations of Cha...    Laymouna M   \n",
            "1   39042233  Artificial intelligence-derived left ventricul...    Kuwahara A   \n",
            "2   39041940  Screening Outcomes of Mammography with AI in D...         Ha SM   \n",
            "3   39041628  Artificial Intelligence Applications in Oral C...       Viet CT   \n",
            "4   39041503  The utility of artificial intelligence in iden...    Nxumalo ZZ   \n",
            "5   39041284  Design, construction, and validation of obstet...     Soares FM   \n",
            "6   39041057  Automated algorithm for medical data structuri...  Nainamalai V   \n",
            "7   39039992  Time Series AI Model for Acute Kidney Injury D...         Heo S   \n",
            "8   39039954                           ChatGPT and dermatology.  D'Agostino M   \n",
            "9   39039704  Increasing acceptance of AI-generated digital ...  Vidovszky AA   \n",
            "10  39039669  SkinLiTE: Lightweight Supervised Contrastive L...  Alzahrani SM   \n",
            "11  39039594  Machine learning for automating subjective cli...       Mobbs A   \n",
            "12  39039218  Autonomous artificial intelligence for diabeti...      Huang JJ   \n",
            "13  39038983  Developing an AI Tool to Derive Social Determi...      Garies S   \n",
            "14  39038650  Use of Artificial Intelligence Including Multi...   Jaltotage B   \n",
            "15  39038648  Ethical challenges and opportunities in applyi...       Lewin S   \n",
            "16  39038255  Natural Language Processing Algorithm to Extra...  Goryachev SD   \n",
            "17  39037785  Accelerated Chest Pain Treatment With Artifici...     Hinson JS   \n",
            "18  39037006  Neural substrates of predicting anhedonia symp...        Yang T   \n",
            "19  39036586  Role of Artificial Intelligence in Endoscopic ...       Javed N   \n",
            "\n",
            "                                 Journal Publication Date  \n",
            "0                     J Med Internet Res      2024 Jul 23  \n",
            "1               Int J Cardiovasc Imaging      2024 Jul 23  \n",
            "2                              Radiology         2024 Jul  \n",
            "3                      Tissue Eng Part A      2024 Jul 23  \n",
            "4                            S Afr Med J      2024 May 31  \n",
            "5                  Int J Gynaecol Obstet      2024 Jul 23  \n",
            "6                      Eur J Radiol Open         2024 Dec  \n",
            "7                        JMIR Med Inform       2024 Jul 5  \n",
            "8                Ital J Dermatol Venerol      2024 Jul 23  \n",
            "9                        Clin Transl Sci         2024 Jul  \n",
            "10                      Curr Med Imaging             2024  \n",
            "11                    J Neuroeng Rehabil      2024 Jul 23  \n",
            "12                         NPJ Digit Med      2024 Jul 22  \n",
            "13                           Ann Fam Med     2024 Jul-Aug  \n",
            "14                         Can J Cardiol      2024 Jul 20  \n",
            "15                         Can J Cardiol      2024 Jul 20  \n",
            "16                JCO Clin Cancer Inform         2024 Jul  \n",
            "17                       JAMA Intern Med      2024 Jul 22  \n",
            "18                     CNS Neurosci Ther         2024 Jul  \n",
            "19  J Community Hosp Intern Med Perspect             2024  \n",
            "Results saved to 'pubmed_search_results.csv'\n"
          ]
        }
      ]
    },
    {
      "cell_type": "code",
      "source": [
        "!pip install crossrefapi"
      ],
      "metadata": {
        "id": "v39vupMzmE4N",
        "outputId": "7d3b0ad1-571a-4b53-dd8d-ba23a1e8c0e5",
        "colab": {
          "base_uri": "https://localhost:8080/",
          "height": 396
        }
      },
      "execution_count": 12,
      "outputs": [
        {
          "output_type": "stream",
          "name": "stdout",
          "text": [
            "Collecting crossrefapi\n",
            "  Downloading crossrefapi-1.6.0-py3-none-any.whl (14 kB)\n",
            "Requirement already satisfied: requests<3.0.0,>=2.31.0 in /usr/local/lib/python3.10/dist-packages (from crossrefapi) (2.31.0)\n",
            "Collecting urllib3==1.26.16 (from crossrefapi)\n",
            "  Downloading urllib3-1.26.16-py2.py3-none-any.whl (143 kB)\n",
            "\u001b[2K     \u001b[90m━━━━━━━━━━━━━━━━━━━━━━━━━━━━━━━━━━━━━━━━\u001b[0m \u001b[32m143.1/143.1 kB\u001b[0m \u001b[31m4.9 MB/s\u001b[0m eta \u001b[36m0:00:00\u001b[0m\n",
            "\u001b[?25hRequirement already satisfied: charset-normalizer<4,>=2 in /usr/local/lib/python3.10/dist-packages (from requests<3.0.0,>=2.31.0->crossrefapi) (3.3.2)\n",
            "Requirement already satisfied: idna<4,>=2.5 in /usr/local/lib/python3.10/dist-packages (from requests<3.0.0,>=2.31.0->crossrefapi) (3.7)\n",
            "Requirement already satisfied: certifi>=2017.4.17 in /usr/local/lib/python3.10/dist-packages (from requests<3.0.0,>=2.31.0->crossrefapi) (2024.7.4)\n",
            "Installing collected packages: urllib3, crossrefapi\n",
            "  Attempting uninstall: urllib3\n",
            "    Found existing installation: urllib3 2.0.7\n",
            "    Uninstalling urllib3-2.0.7:\n",
            "      Successfully uninstalled urllib3-2.0.7\n",
            "Successfully installed crossrefapi-1.6.0 urllib3-1.26.16\n"
          ]
        },
        {
          "output_type": "display_data",
          "data": {
            "application/vnd.colab-display-data+json": {
              "pip_warning": {
                "packages": [
                  "urllib3"
                ]
              },
              "id": "4548e12b55834711a27cff66865e445c"
            }
          },
          "metadata": {}
        }
      ]
    },
    {
      "cell_type": "code",
      "source": [
        "import pandas as pd\n",
        "import numpy as np\n",
        "from tqdm import tqdm\n",
        "from crossref.restful import Works\n",
        "import plotly.graph_objs as go\n",
        "from Bio import Entrez\n",
        "import networkx as nx\n",
        "\n",
        "# Entrezの設定（自分のメールアドレスを入力してください）\n",
        "Entrez.email = \"your_email@example.com\"\n",
        "\n",
        "def search_pubmed(query, max_results=100):\n",
        "    handle = Entrez.esearch(db=\"pubmed\", term=query, retmax=max_results)\n",
        "    record = Entrez.read(handle)\n",
        "    return record[\"IdList\"]\n",
        "\n",
        "def get_doi_from_pmid(pmid):\n",
        "    handle = Entrez.efetch(db=\"pubmed\", id=pmid, retmode=\"xml\")\n",
        "    records = Entrez.read(handle)\n",
        "    try:\n",
        "        return records['PubmedArticle'][0]['PubmedData']['ArticleIdList'][[x.attributes['IdType'] for x in records['PubmedArticle'][0]['PubmedData']['ArticleIdList']].index('doi')].title()\n",
        "    except:\n",
        "        return None\n",
        "\n",
        "graph_nodes = {}\n",
        "graph_edges = {}\n",
        "\n",
        "def create_citation_network(pmids):\n",
        "    works = Works()\n",
        "    for pmid in tqdm(pmids):\n",
        "        doi = get_doi_from_pmid(pmid)\n",
        "        if doi:\n",
        "            paper = works.doi(doi)\n",
        "            if paper is not None:\n",
        "                graph_nodes[doi] = {\n",
        "                    \"title\": paper.get(\"title\", [\"\"])[0],\n",
        "                    \"author\": paper.get(\"author\", [{\"family\": \"\", \"given\": \"\"}])[0][\"family\"] + \", \" + paper.get(\"author\", [{\"family\": \"\", \"given\": \"\"}])[0][\"given\"],\n",
        "                    \"citedByCount\": paper.get(\"is-referenced-by-count\", 0),\n",
        "                    \"referenceCount\": paper.get(\"reference-count\", 0),\n",
        "                    \"inPubMed\": True\n",
        "                }\n",
        "\n",
        "                if \"reference\" in paper:\n",
        "                    for ref in paper[\"reference\"]:\n",
        "                        if \"DOI\" in ref:\n",
        "                            ref_doi = ref[\"DOI\"]\n",
        "                            if ref_doi not in graph_nodes:\n",
        "                                ref_paper = works.doi(ref_doi)\n",
        "                                if ref_paper is not None:\n",
        "                                    graph_nodes[ref_doi] = {\n",
        "                                        \"title\": ref_paper.get(\"title\", [\"\"])[0],\n",
        "                                        \"author\": ref_paper.get(\"author\", [{\"family\": \"\", \"given\": \"\"}])[0][\"family\"] + \", \" + ref_paper.get(\"author\", [{\"family\": \"\", \"given\": \"\"}])[0][\"given\"],\n",
        "                                        \"citedByCount\": ref_paper.get(\"is-referenced-by-count\", 0),\n",
        "                                        \"referenceCount\": ref_paper.get(\"reference-count\", 0),\n",
        "                                        \"inPubMed\": False\n",
        "                                    }\n",
        "\n",
        "                            if doi not in graph_edges:\n",
        "                                graph_edges[doi] = []\n",
        "                            graph_edges[doi].append(ref_doi)\n",
        "\n",
        "def visualize_graph(is_only_pubmed=False):\n",
        "    G = nx.Graph()\n",
        "\n",
        "    impact_factor = []\n",
        "    impact_size = []\n",
        "    is_pubmed_color = []\n",
        "\n",
        "    for key, node in graph_nodes.items():\n",
        "        if not is_only_pubmed or (is_only_pubmed and node[\"inPubMed\"]):\n",
        "            G.add_node(key)\n",
        "            G.nodes[key][\"info\"] = node\n",
        "            impact_factor.append(node[\"citedByCount\"])\n",
        "            impact_size.append(min(node[\"citedByCount\"] + 10, 40))\n",
        "            is_pubmed_color.append(1 if node[\"inPubMed\"] else 0)\n",
        "\n",
        "    for key, edges in graph_edges.items():\n",
        "        if not is_only_pubmed or (is_only_pubmed and graph_nodes[key][\"inPubMed\"]):\n",
        "            for edge in edges:\n",
        "                if edge in graph_nodes:\n",
        "                    G.add_edge(key, edge)\n",
        "\n",
        "    pos = nx.spring_layout(G, k=0.3, seed=1)\n",
        "    for node in G.nodes():\n",
        "        G.nodes[node][\"pos\"] = pos[node]\n",
        "\n",
        "    edge_x, edge_y = [], []\n",
        "    for edge in G.edges():\n",
        "        x0, y0 = G.nodes[edge[0]]['pos']\n",
        "        x1, y1 = G.nodes[edge[1]]['pos']\n",
        "        edge_x.extend([x0, x1, None])\n",
        "        edge_y.extend([y0, y1, None])\n",
        "\n",
        "    edge_trace = go.Scatter(\n",
        "        x=edge_x, y=edge_y,\n",
        "        line=dict(width=0.5, color='#888'),\n",
        "        mode='lines')\n",
        "\n",
        "    node_x, node_y = [], []\n",
        "    for node in G.nodes():\n",
        "        x, y = G.nodes[node]['pos']\n",
        "        node_x.append(x)\n",
        "        node_y.append(y)\n",
        "\n",
        "    node_info = []\n",
        "    for n in G.nodes():\n",
        "        info = G.nodes[n][\"info\"]\n",
        "        node_info.append(f\"Title: {info['title']}<br>Author: {info['author']}<br>Cited by: {info['citedByCount']}<br>References: {info['referenceCount']}<br>In PubMed: {info['inPubMed']}\")\n",
        "\n",
        "    node_trace = go.Scatter(\n",
        "        x=node_x, y=node_y,\n",
        "        mode='markers',\n",
        "        hoverinfo='text',\n",
        "        text=node_info,\n",
        "        marker=dict(\n",
        "            showscale=True,\n",
        "            colorscale='YlGnBu',\n",
        "            reversescale=False,\n",
        "            color=is_pubmed_color,\n",
        "            size=impact_size,\n",
        "            colorbar=dict(\n",
        "                thickness=15,\n",
        "                title='1: in PubMed, 0: not in PubMed',\n",
        "                xanchor='left',\n",
        "                titleside='right'\n",
        "            ),\n",
        "            line_width=2))\n",
        "\n",
        "    fig = go.Figure(data=[edge_trace, node_trace],\n",
        "                    layout=go.Layout(\n",
        "                        title='PubMed Citation Network',\n",
        "                        titlefont_size=16,\n",
        "                        showlegend=False,\n",
        "                        hovermode='closest',\n",
        "                        margin=dict(b=20,l=5,r=5,t=40),\n",
        "                        xaxis=dict(showgrid=False, zeroline=False, showticklabels=False),\n",
        "                        yaxis=dict(showgrid=False, zeroline=False, showticklabels=False)))\n",
        "\n",
        "    fig.update_layout(height=1000)\n",
        "    fig.show()\n",
        "\n",
        "def main():\n",
        "    query = input(\"PubMedで検索するキーワードを入力してください: \")\n",
        "    max_results = int(input(\"取得する最大論文数を入力してください: \"))\n",
        "\n",
        "    print(\"PubMedを検索中...\")\n",
        "    pmids = search_pubmed(query, max_results)\n",
        "\n",
        "    print(f\"{len(pmids)}件の論文が見つかりました。引用ネットワークを作成中...\")\n",
        "    create_citation_network(pmids)\n",
        "\n",
        "    print(\"ネットワークを可視化中...\")\n",
        "    visualize_graph()\n",
        "\n",
        "if __name__ == \"__main__\":\n",
        "    main()"
      ],
      "metadata": {
        "id": "_QRkHr-dk4Rk",
        "outputId": "3966af68-cf1f-40b8-c5f9-e2d658d034a4",
        "colab": {
          "base_uri": "https://localhost:8080/",
          "height": 1000
        }
      },
      "execution_count": 2,
      "outputs": [
        {
          "output_type": "stream",
          "name": "stdout",
          "text": [
            "PubMedで検索するキーワードを入力してください: blepharoplasty\n",
            "取得する最大論文数を入力してください: 3\n",
            "PubMedを検索中...\n",
            "3件の論文が見つかりました。引用ネットワークを作成中...\n"
          ]
        },
        {
          "output_type": "stream",
          "name": "stderr",
          "text": [
            "100%|██████████| 3/3 [00:21<00:00,  7.23s/it]"
          ]
        },
        {
          "output_type": "stream",
          "name": "stdout",
          "text": [
            "ネットワークを可視化中...\n"
          ]
        },
        {
          "output_type": "stream",
          "name": "stderr",
          "text": [
            "\n"
          ]
        },
        {
          "output_type": "display_data",
          "data": {
            "text/html": [
              "<html>\n",
              "<head><meta charset=\"utf-8\" /></head>\n",
              "<body>\n",
              "    <div>            <script src=\"https://cdnjs.cloudflare.com/ajax/libs/mathjax/2.7.5/MathJax.js?config=TeX-AMS-MML_SVG\"></script><script type=\"text/javascript\">if (window.MathJax && window.MathJax.Hub && window.MathJax.Hub.Config) {window.MathJax.Hub.Config({SVG: {font: \"STIX-Web\"}});}</script>                <script type=\"text/javascript\">window.PlotlyConfig = {MathJaxConfig: 'local'};</script>\n",
              "        <script charset=\"utf-8\" src=\"https://cdn.plot.ly/plotly-2.24.1.min.js\"></script>                <div id=\"bc2434f8-44ff-4090-94a9-ef591e2bc9ee\" class=\"plotly-graph-div\" style=\"height:1000px; width:100%;\"></div>            <script type=\"text/javascript\">                                    window.PLOTLYENV=window.PLOTLYENV || {};                                    if (document.getElementById(\"bc2434f8-44ff-4090-94a9-ef591e2bc9ee\")) {                    Plotly.newPlot(                        \"bc2434f8-44ff-4090-94a9-ef591e2bc9ee\",                        [{\"line\":{\"color\":\"#888\",\"width\":0.5},\"mode\":\"lines\",\"x\":[-0.7903123935699721,-1.0,null,-0.7903123935699721,-0.8592156149940057,null,-0.7903123935699721,-0.9031056839247714,null,-0.7903123935699721,-0.7841073568210712,null,-0.7903123935699721,-0.7329472683433365,null,-0.7903123935699721,-0.8610670314858438,null,-0.7903123935699721,-0.9606769443672826,null,-0.7903123935699721,-0.6588294901971997,null,-0.7903123935699721,-0.9397812926667977,null,-0.7903123935699721,-0.5683358568041307,null,-0.7903123935699721,-0.8912590472722163,null,-0.7903123935699721,-0.5069670260351825,null,-0.7903123935699721,-0.9449632193781201,null,-0.002446601735836494,-0.10451449185163136,null,-0.002446601735836494,0.1734366600016863,null,-0.002446601735836494,0.05081342369585447,null,-0.002446601735836494,0.019101635749106716,null,-0.002446601735836494,-0.12917394261980214,null,-0.002446601735836494,0.10176884495019435,null,-0.002446601735836494,-0.06946367463268176,null,-0.002446601735836494,-0.13908337788707398,null,-0.002446601735836494,0.12114170444843728,null,-0.002446601735836494,-0.037302762012422705,null,0.49843195241816424,0.3749637244199983,null,0.49843195241816424,0.4327355723902198,null,0.49843195241816424,0.525031576827967,null,0.49843195241816424,0.49975793272758584,null,0.49843195241816424,0.3199973527455203,null,0.49843195241816424,0.5998925334601063,null,0.49843195241816424,0.20399419943548605,null,0.49843195241816424,0.6949479856898991,null,0.49843195241816424,0.7473708296739248,null,0.49843195241816424,0.610069287489103,null,0.49843195241816424,0.2557725420280021,null,0.49843195241816424,0.49432560900804234,null,0.49843195241816424,0.7591208982372756,null,0.49843195241816424,0.6298893076720624,null,0.49843195241816424,0.7130495860706234,null,0.49843195241816424,0.6909077417651375,null,0.49843195241816424,0.37309870507313314,null,0.49843195241816424,0.46523360969701794,null,0.49843195241816424,0.640699273023865,null,0.49843195241816424,0.22102362983276716,null,0.49843195241816424,0.6669769580682007,null],\"y\":[-0.033473752424887634,-0.03206190929782561,null,-0.033473752424887634,-0.23217406614490735,null,-0.033473752424887634,-0.05062640542217761,null,-0.033473752424887634,-0.2070116897544086,null,-0.033473752424887634,0.10099221034338633,null,-0.033473752424887634,0.1639635185312698,null,-0.033473752424887634,0.06365739948180095,null,-0.033473752424887634,-0.1608155397784581,null,-0.033473752424887634,-0.12742657768344565,null,-0.033473752424887634,0.09743132463171038,null,-0.033473752424887634,0.09659226791617861,null,-0.033473752424887634,0.0230857218369335,null,-0.033473752424887634,-0.19953159765428508,null,0.5055559391097012,0.32531119261306857,null,0.5055559391097012,0.4958313653026974,null,0.5055559391097012,0.3230488634213053,null,0.5055559391097012,0.7201681645625476,null,0.5055559391097012,0.6302757784922888,null,0.5055559391097012,0.6860734896024594,null,0.5055559391097012,0.7129732579539287,null,0.5055559391097012,0.41635813904779856,null,0.5055559391097012,0.37731382021579224,null,0.5055559391097012,0.27213997621596303,null,-0.2141019398289304,-0.37198744906289644,null,-0.2141019398289304,-0.4438308087120139,null,-0.2141019398289304,-0.46141113565981057,null,-0.2141019398289304,-0.05573345589345269,null,-0.2141019398289304,-0.28169798637719223,null,-0.2141019398289304,-0.35228874672798866,null,-0.2141019398289304,-0.18419852840468753,null,-0.2141019398289304,-0.3190539803619519,null,-0.2141019398289304,-0.17272483971190267,null,-0.2141019398289304,-0.4439214913987619,null,-0.2141019398289304,-0.10704803682581708,null,-0.2141019398289304,-0.3703094515665389,null,-0.2141019398289304,-0.2670017605519487,null,-0.2141019398289304,-0.035903199316453145,null,-0.2141019398289304,-0.08637562059224752,null,-0.2141019398289304,-0.3975285266777555,null,-0.2141019398289304,-0.04117126618027434,null,-0.2141019398289304,0.02045449062239154,null,-0.2141019398289304,-0.13728856524956753,null,-0.2141019398289304,-0.009302622315752879,null,-0.2141019398289304,-0.23522597032488066,null],\"type\":\"scatter\"},{\"hoverinfo\":\"text\",\"marker\":{\"color\":[1,0,0,0,0,0,0,0,0,0,0,0,0,0,1,0,0,0,0,0,0,0,0,0,0,1,0,0,0,0,0,0,0,0,0,0,0,0,0,0,0,0,0,0,0,0,0],\"colorbar\":{\"thickness\":15,\"title\":{\"side\":\"right\",\"text\":\"1: in PubMed, 0: not in PubMed\"},\"xanchor\":\"left\"},\"colorscale\":[[0.0,\"rgb(255,255,217)\"],[0.125,\"rgb(237,248,177)\"],[0.25,\"rgb(199,233,180)\"],[0.375,\"rgb(127,205,187)\"],[0.5,\"rgb(65,182,196)\"],[0.625,\"rgb(29,145,192)\"],[0.75,\"rgb(34,94,168)\"],[0.875,\"rgb(37,52,148)\"],[1.0,\"rgb(8,29,88)\"]],\"line\":{\"width\":2},\"reversescale\":false,\"showscale\":true,\"size\":[10,40,40,23,37,40,34,18,21,13,40,40,17,40,10,40,40,16,40,40,25,24,12,20,40,10,20,40,40,40,40,40,16,40,40,40,40,29,40,40,40,29,27,26,12,40,27]},\"mode\":\"markers\",\"text\":[\"Title: Is the Severity of Preoperative Eyelid Dermatochalasis Directly Correlated with Patient Satisfaction After Upper Blepharoplasty? A Prospective Study Based on PROMs\\u003cbr\\u003eAuthor: Marangi, Giovanni Francesco\\u003cbr\\u003eCited by: 0\\u003cbr\\u003eReferences: 13\\u003cbr\\u003eIn PubMed: True\",\"Title: Aesthetic Plastic Surgery National Databank Statistics 2020\\u20132021\\u003cbr\\u003eAuthor: , \\u003cbr\\u003eCited by: 114\\u003cbr\\u003eReferences: 0\\u003cbr\\u003eIn PubMed: False\",\"Title: Intrinsic and Extrinsic Risk Factors for Sagging Eyelids\\u003cbr\\u003eAuthor: Jacobs, Leonie C.\\u003cbr\\u003eCited by: 64\\u003cbr\\u003eReferences: 0\\u003cbr\\u003eIn PubMed: False\",\"Title: The Histopathological Findings of Patients Who Underwent Blepharoplasty Due to Dermatochalasis\\u003cbr\\u003eAuthor: Karnaz, Ali\\u003cbr\\u003eCited by: 13\\u003cbr\\u003eReferences: 27\\u003cbr\\u003eIn PubMed: False\",\"Title: Functional benefits and patient satisfaction with upper blepharoplasty \\u2013 evaluated by objective and subjective outcome measures\\u003cbr\\u003eAuthor: Jacobsen, Agnes Galbo\\u003cbr\\u003eCited by: 27\\u003cbr\\u003eReferences: 17\\u003cbr\\u003eIn PubMed: False\",\"Title: Blepharoplasty and Brow Lift\\u003cbr\\u003eAuthor: Codner, Mark A.\\u003cbr\\u003eCited by: 62\\u003cbr\\u003eReferences: 41\\u003cbr\\u003eIn PubMed: False\",\"Title: Periorbital Rejuvenation\\u003cbr\\u003eAuthor: Glaser, Dee Anna\\u003cbr\\u003eCited by: 24\\u003cbr\\u003eReferences: 22\\u003cbr\\u003eIn PubMed: False\",\"Title: Patient-reported aesthetic outcomes of upper blepharoplasty: a randomized controlled trial comparing two surgical techniques\\u003cbr\\u003eAuthor: Hollander, M.H.J.\\u003cbr\\u003eCited by: 8\\u003cbr\\u003eReferences: 20\\u003cbr\\u003eIn PubMed: False\",\"Title: Assessment of Patient Satisfaction With Appearance, Psychological Well-being, and Aging Appraisal After Upper Blepharoplasty: A Multicenter Prospective Cohort Study\\u003cbr\\u003eAuthor: Domela Nieuwenhuis, Ileen\\u003cbr\\u003eCited by: 11\\u003cbr\\u003eReferences: 41\\u003cbr\\u003eIn PubMed: False\",\"Title: A New Classification of the Lateral Dermatochalasis of Upper Eyelids\\u003cbr\\u003eAuthor: Rossi Santos Silva, Kennedy\\u003cbr\\u003eCited by: 3\\u003cbr\\u003eReferences: 24\\u003cbr\\u003eIn PubMed: False\",\"Title: World Medical Association Declaration of Helsinki\\u003cbr\\u003eAuthor: , \\u003cbr\\u003eCited by: 16627\\u003cbr\\u003eReferences: 0\\u003cbr\\u003eIn PubMed: False\",\"Title: The aging face\\u003cbr\\u003eAuthor: Ko, Audrey C.\\u003cbr\\u003eCited by: 44\\u003cbr\\u003eReferences: 87\\u003cbr\\u003eIn PubMed: False\",\"Title: Can philosophical aesthetics be useful for plastic surgery? The subjective, objective and relational view of beauty\\u003cbr\\u003eAuthor: Persichetti, Paolo\\u003cbr\\u003eCited by: 7\\u003cbr\\u003eReferences: 5\\u003cbr\\u003eIn PubMed: False\",\"Title: Cognitive Investigation Study of Patients Admitted for Cosmetic Surgery: Information, Expectations, and Consent for Treatment\\u003cbr\\u003eAuthor: Barone, Mauro\\u003cbr\\u003eCited by: 43\\u003cbr\\u003eReferences: 14\\u003cbr\\u003eIn PubMed: False\",\"Title: A rare sight: Childhood blepharochalasis presenting as recurrent eyelid swelling: A case report\\u003cbr\\u003eAuthor: Ismail, Ahmad\\u003cbr\\u003eCited by: 0\\u003cbr\\u003eReferences: 13\\u003cbr\\u003eIn PubMed: True\",\"Title: The Blepharochalasis Syndrome\\u003cbr\\u003eAuthor: Koursh, Daphna Mezad\\u003cbr\\u003eCited by: 41\\u003cbr\\u003eReferences: 36\\u003cbr\\u003eIn PubMed: False\",\"Title: Blepharochalasis.\\u003cbr\\u003eAuthor: Bergin, D J\\u003cbr\\u003eCited by: 34\\u003cbr\\u003eReferences: 26\\u003cbr\\u003eIn PubMed: False\",\"Title: Recurrent Ptosis in a Patient With Blepharochalasis\\u003cbr\\u003eAuthor: Takahashi, Yasuhiro\\u003cbr\\u003eCited by: 6\\u003cbr\\u003eReferences: 5\\u003cbr\\u003eIn PubMed: False\",\"Title: Floppy Eyelid Syndrome and Blepharochalasis\\u003cbr\\u003eAuthor: Goldberg, Robert\\u003cbr\\u003eCited by: 67\\u003cbr\\u003eReferences: 30\\u003cbr\\u003eIn PubMed: False\",\"Title: The SCARE 2023 guideline: updating consensus Surgical CAse REport (SCARE) guidelines\\u003cbr\\u003eAuthor: Sohrabi, Catrin\\u003cbr\\u003eCited by: 960\\u003cbr\\u003eReferences: 6\\u003cbr\\u003eIn PubMed: False\",\"Title: Blepharochalasis with multiple system involvement.\\u003cbr\\u003eAuthor: Ghose, S\\u003cbr\\u003eCited by: 15\\u003cbr\\u003eReferences: 11\\u003cbr\\u003eIn PubMed: False\",\"Title: Immunoglobulin A (IgA) deposits in lesional skin of a patient with blepharochalasis\\u003cbr\\u003eAuthor: GRASSEGGER, A.\\u003cbr\\u003eCited by: 14\\u003cbr\\u003eReferences: 30\\u003cbr\\u003eIn PubMed: False\",\"Title: Acute episode of eyelid oedema\\u003cbr\\u003eAuthor: Hallahan, Katie Marie\\u003cbr\\u003eCited by: 2\\u003cbr\\u003eReferences: 0\\u003cbr\\u003eIn PubMed: False\",\"Title: Doxycycline for Treatment of Blepharochalasis via Inhibition of Matrix Metalloproteinases\\u003cbr\\u003eAuthor: Karaconji, Tanya\\u003cbr\\u003eCited by: 10\\u003cbr\\u003eReferences: 6\\u003cbr\\u003eIn PubMed: False\",\"Title: A review of acquired blepharoptosis: prevalence, diagnosis, and current treatment options\\u003cbr\\u003eAuthor: Bacharach, Jason\\u003cbr\\u003eCited by: 40\\u003cbr\\u003eReferences: 81\\u003cbr\\u003eIn PubMed: False\",\"Title: Treatment Algorithm for Surgical Correction of Lower Eyelid Bags and Tear Trough Deformity Based on Barton Grading System\\u003cbr\\u003eAuthor: Yang, Fan\\u003cbr\\u003eCited by: 0\\u003cbr\\u003eReferences: 24\\u003cbr\\u003eIn PubMed: True\",\"Title: Modified Lower Blepharoplasty with Fat Repositioning via Transconjunctival Approach to Correct Tear Trough Deformity\\u003cbr\\u003eAuthor: Duan, Ran\\u003cbr\\u003eCited by: 10\\u003cbr\\u003eReferences: 21\\u003cbr\\u003eIn PubMed: False\",\"Title: The Tear Trough Ligament\\u003cbr\\u003eAuthor: Wong, Chin-Ho\\u003cbr\\u003eCited by: 154\\u003cbr\\u003eReferences: 24\\u003cbr\\u003eIn PubMed: False\",\"Title: Expanded Applications for Transconjunctival Lower Lid Blepharoplasty\\u003cbr\\u003eAuthor: Zarem, Harvey A.\\u003cbr\\u003eCited by: 31\\u003cbr\\u003eReferences: 0\\u003cbr\\u003eIn PubMed: False\",\"Title: Facial Recontouring with Lipostructure\\u003cbr\\u003eAuthor: Coleman, Sydney R.\\u003cbr\\u003eCited by: 808\\u003cbr\\u003eReferences: 32\\u003cbr\\u003eIn PubMed: False\",\"Title: Fat Repositioning in Lower Blepharoplasty to Maintain Infraorbital Rim Contour\\u003cbr\\u003eAuthor: Goldberg, Robert\\u003cbr\\u003eCited by: 33\\u003cbr\\u003eReferences: 0\\u003cbr\\u003eIn PubMed: False\",\"Title: Transconjunctival Orbital Fat Repositioning: Transposition of Orbital Fat Pedicles into a Subperiosteal Pocket\\u003cbr\\u003eAuthor: Goldberg, Robert Alan\\u003cbr\\u003eCited by: 184\\u003cbr\\u003eReferences: 9\\u003cbr\\u003eIn PubMed: False\",\"Title: Downward Rotation of the Capsulopalpebral Fascia, Orbital Septum, and Orbital Fat Complex: A New Technique for Lower Eyelid Rejuvenation\\u003cbr\\u003eAuthor: Huang, Zhenying\\u003cbr\\u003eCited by: 6\\u003cbr\\u003eReferences: 29\\u003cbr\\u003eIn PubMed: False\",\"Title: Definitions of groove and hollowness of the infraorbital region and clinical treatment using\\nsoft-tissue filler\\u003cbr\\u003eAuthor: Lee, Ji-Hyun\\u003cbr\\u003eCited by: 46\\u003cbr\\u003eReferences: 25\\u003cbr\\u003eIn PubMed: False\",\"Title: Orbital Fat Preservation in Lower-Lid Blepharoplasty\\u003cbr\\u003eAuthor: Baker, Shan R.\\u003cbr\\u003eCited by: 46\\u003cbr\\u003eReferences: 14\\u003cbr\\u003eIn PubMed: False\",\"Title: Fat Extrusion and Septal Reset in Patients with the Tear Trough Triad: A Critical Appraisal\\u003cbr\\u003eAuthor: Barton, Fritz E.\\u003cbr\\u003eCited by: 100\\u003cbr\\u003eReferences: 28\\u003cbr\\u003eIn PubMed: False\",\"Title: Tear Trough Deformity: Review of Anatomy and Treatment Options\\u003cbr\\u003eAuthor: Stutman, Ross L.\\u003cbr\\u003eCited by: 80\\u003cbr\\u003eReferences: 72\\u003cbr\\u003eIn PubMed: False\",\"Title: Correction of the Tear Trough Deformity and Concomitant Infraorbital Hollows With Extracellular Matrix\\u002fStromal Vascular Fraction Gel\\u003cbr\\u003eAuthor: Luo, Sai\\u003cbr\\u003eCited by: 19\\u003cbr\\u003eReferences: 22\\u003cbr\\u003eIn PubMed: False\",\"Title: Arcus Marginalis Release and Orbital Fat Preservation in Midface Rejuvenation\\u003cbr\\u003eAuthor: Hamra, Sam T.\\u003cbr\\u003eCited by: 287\\u003cbr\\u003eReferences: 0\\u003cbr\\u003eIn PubMed: False\",\"Title: Fat Pad Sliding and Fat Grafting for Leveling Lid Depressions\\u003cbr\\u003eAuthor: Loeb, Raul\\u003cbr\\u003eCited by: 196\\u003cbr\\u003eReferences: 21\\u003cbr\\u003eIn PubMed: False\",\"Title: The Role of the Septal Reset in Creating a Youthful Eyelid-Cheek Complex in Facial Rejuvenation\\u003cbr\\u003eAuthor: Hamra, Sam T.\\u003cbr\\u003eCited by: 104\\u003cbr\\u003eReferences: 15\\u003cbr\\u003eIn PubMed: False\",\"Title: Transconjunctival Subperiosteal Fat Reposition for Tear Trough Deformity\\u003cbr\\u003eAuthor: Youn, Seungki\\u003cbr\\u003eCited by: 19\\u003cbr\\u003eReferences: 22\\u003cbr\\u003eIn PubMed: False\",\"Title: Autogenous Fat Grafting by Injection\\u003cbr\\u003eAuthor: Silkiss, Rona Z.\\u003cbr\\u003eCited by: 17\\u003cbr\\u003eReferences: 0\\u003cbr\\u003eIn PubMed: False\",\"Title: Lower Lid Deformity Secondary to Autogenous Fat Transfer: A Cautionary Tale\\u003cbr\\u003eAuthor: Spector, Jason A.\\u003cbr\\u003eCited by: 16\\u003cbr\\u003eReferences: 20\\u003cbr\\u003eIn PubMed: False\",\"Title: Use of Buried Guide Needle to Fix Inferior Eyelid Orbital Septum Fat for Tear Trough Depression Filling\\u003cbr\\u003eAuthor: Gu, Cong-Min\\u003cbr\\u003eCited by: 2\\u003cbr\\u003eReferences: 22\\u003cbr\\u003eIn PubMed: False\",\"Title: The Tear Trough and Lid\\u002fCheek Junction: Anatomy and Implications for Surgical Correction\\u003cbr\\u003eAuthor: Haddock, Nicholas T.\\u003cbr\\u003eCited by: 122\\u003cbr\\u003eReferences: 29\\u003cbr\\u003eIn PubMed: False\",\"Title: Orbicularis Retaining Ligament Release in Lower Blepharoplasty: Assessing Efficacy and Complications\\u003cbr\\u003eAuthor: Chan, Norman J.\\u003cbr\\u003eCited by: 17\\u003cbr\\u003eReferences: 18\\u003cbr\\u003eIn PubMed: False\"],\"x\":[-0.7903123935699721,-1.0,-0.8592156149940057,-0.9031056839247714,-0.7841073568210712,-0.7329472683433365,-0.8610670314858438,-0.9606769443672826,-0.6588294901971997,-0.9397812926667977,-0.5683358568041307,-0.8912590472722163,-0.5069670260351825,-0.9449632193781201,-0.002446601735836494,-0.10451449185163136,0.1734366600016863,0.05081342369585447,0.019101635749106716,-0.12917394261980214,0.10176884495019435,-0.06946367463268176,-0.13908337788707398,0.12114170444843728,-0.037302762012422705,0.49843195241816424,0.3749637244199983,0.4327355723902198,0.525031576827967,0.49975793272758584,0.3199973527455203,0.5998925334601063,0.20399419943548605,0.6949479856898991,0.7473708296739248,0.610069287489103,0.2557725420280021,0.49432560900804234,0.7591208982372756,0.6298893076720624,0.7130495860706234,0.6909077417651375,0.37309870507313314,0.46523360969701794,0.640699273023865,0.22102362983276716,0.6669769580682007],\"y\":[-0.033473752424887634,-0.03206190929782561,-0.23217406614490735,-0.05062640542217761,-0.2070116897544086,0.10099221034338633,0.1639635185312698,0.06365739948180095,-0.1608155397784581,-0.12742657768344565,0.09743132463171038,0.09659226791617861,0.0230857218369335,-0.19953159765428508,0.5055559391097012,0.32531119261306857,0.4958313653026974,0.3230488634213053,0.7201681645625476,0.6302757784922888,0.6860734896024594,0.7129732579539287,0.41635813904779856,0.37731382021579224,0.27213997621596303,-0.2141019398289304,-0.37198744906289644,-0.4438308087120139,-0.46141113565981057,-0.05573345589345269,-0.28169798637719223,-0.35228874672798866,-0.18419852840468753,-0.3190539803619519,-0.17272483971190267,-0.4439214913987619,-0.10704803682581708,-0.3703094515665389,-0.2670017605519487,-0.035903199316453145,-0.08637562059224752,-0.3975285266777555,-0.04117126618027434,0.02045449062239154,-0.13728856524956753,-0.009302622315752879,-0.23522597032488066],\"type\":\"scatter\"}],                        {\"hovermode\":\"closest\",\"margin\":{\"b\":20,\"l\":5,\"r\":5,\"t\":40},\"showlegend\":false,\"title\":{\"font\":{\"size\":16},\"text\":\"PubMed Citation Network\"},\"xaxis\":{\"showgrid\":false,\"showticklabels\":false,\"zeroline\":false},\"yaxis\":{\"showgrid\":false,\"showticklabels\":false,\"zeroline\":false},\"template\":{\"data\":{\"histogram2dcontour\":[{\"type\":\"histogram2dcontour\",\"colorbar\":{\"outlinewidth\":0,\"ticks\":\"\"},\"colorscale\":[[0.0,\"#0d0887\"],[0.1111111111111111,\"#46039f\"],[0.2222222222222222,\"#7201a8\"],[0.3333333333333333,\"#9c179e\"],[0.4444444444444444,\"#bd3786\"],[0.5555555555555556,\"#d8576b\"],[0.6666666666666666,\"#ed7953\"],[0.7777777777777778,\"#fb9f3a\"],[0.8888888888888888,\"#fdca26\"],[1.0,\"#f0f921\"]]}],\"choropleth\":[{\"type\":\"choropleth\",\"colorbar\":{\"outlinewidth\":0,\"ticks\":\"\"}}],\"histogram2d\":[{\"type\":\"histogram2d\",\"colorbar\":{\"outlinewidth\":0,\"ticks\":\"\"},\"colorscale\":[[0.0,\"#0d0887\"],[0.1111111111111111,\"#46039f\"],[0.2222222222222222,\"#7201a8\"],[0.3333333333333333,\"#9c179e\"],[0.4444444444444444,\"#bd3786\"],[0.5555555555555556,\"#d8576b\"],[0.6666666666666666,\"#ed7953\"],[0.7777777777777778,\"#fb9f3a\"],[0.8888888888888888,\"#fdca26\"],[1.0,\"#f0f921\"]]}],\"heatmap\":[{\"type\":\"heatmap\",\"colorbar\":{\"outlinewidth\":0,\"ticks\":\"\"},\"colorscale\":[[0.0,\"#0d0887\"],[0.1111111111111111,\"#46039f\"],[0.2222222222222222,\"#7201a8\"],[0.3333333333333333,\"#9c179e\"],[0.4444444444444444,\"#bd3786\"],[0.5555555555555556,\"#d8576b\"],[0.6666666666666666,\"#ed7953\"],[0.7777777777777778,\"#fb9f3a\"],[0.8888888888888888,\"#fdca26\"],[1.0,\"#f0f921\"]]}],\"heatmapgl\":[{\"type\":\"heatmapgl\",\"colorbar\":{\"outlinewidth\":0,\"ticks\":\"\"},\"colorscale\":[[0.0,\"#0d0887\"],[0.1111111111111111,\"#46039f\"],[0.2222222222222222,\"#7201a8\"],[0.3333333333333333,\"#9c179e\"],[0.4444444444444444,\"#bd3786\"],[0.5555555555555556,\"#d8576b\"],[0.6666666666666666,\"#ed7953\"],[0.7777777777777778,\"#fb9f3a\"],[0.8888888888888888,\"#fdca26\"],[1.0,\"#f0f921\"]]}],\"contourcarpet\":[{\"type\":\"contourcarpet\",\"colorbar\":{\"outlinewidth\":0,\"ticks\":\"\"}}],\"contour\":[{\"type\":\"contour\",\"colorbar\":{\"outlinewidth\":0,\"ticks\":\"\"},\"colorscale\":[[0.0,\"#0d0887\"],[0.1111111111111111,\"#46039f\"],[0.2222222222222222,\"#7201a8\"],[0.3333333333333333,\"#9c179e\"],[0.4444444444444444,\"#bd3786\"],[0.5555555555555556,\"#d8576b\"],[0.6666666666666666,\"#ed7953\"],[0.7777777777777778,\"#fb9f3a\"],[0.8888888888888888,\"#fdca26\"],[1.0,\"#f0f921\"]]}],\"surface\":[{\"type\":\"surface\",\"colorbar\":{\"outlinewidth\":0,\"ticks\":\"\"},\"colorscale\":[[0.0,\"#0d0887\"],[0.1111111111111111,\"#46039f\"],[0.2222222222222222,\"#7201a8\"],[0.3333333333333333,\"#9c179e\"],[0.4444444444444444,\"#bd3786\"],[0.5555555555555556,\"#d8576b\"],[0.6666666666666666,\"#ed7953\"],[0.7777777777777778,\"#fb9f3a\"],[0.8888888888888888,\"#fdca26\"],[1.0,\"#f0f921\"]]}],\"mesh3d\":[{\"type\":\"mesh3d\",\"colorbar\":{\"outlinewidth\":0,\"ticks\":\"\"}}],\"scatter\":[{\"fillpattern\":{\"fillmode\":\"overlay\",\"size\":10,\"solidity\":0.2},\"type\":\"scatter\"}],\"parcoords\":[{\"type\":\"parcoords\",\"line\":{\"colorbar\":{\"outlinewidth\":0,\"ticks\":\"\"}}}],\"scatterpolargl\":[{\"type\":\"scatterpolargl\",\"marker\":{\"colorbar\":{\"outlinewidth\":0,\"ticks\":\"\"}}}],\"bar\":[{\"error_x\":{\"color\":\"#2a3f5f\"},\"error_y\":{\"color\":\"#2a3f5f\"},\"marker\":{\"line\":{\"color\":\"#E5ECF6\",\"width\":0.5},\"pattern\":{\"fillmode\":\"overlay\",\"size\":10,\"solidity\":0.2}},\"type\":\"bar\"}],\"scattergeo\":[{\"type\":\"scattergeo\",\"marker\":{\"colorbar\":{\"outlinewidth\":0,\"ticks\":\"\"}}}],\"scatterpolar\":[{\"type\":\"scatterpolar\",\"marker\":{\"colorbar\":{\"outlinewidth\":0,\"ticks\":\"\"}}}],\"histogram\":[{\"marker\":{\"pattern\":{\"fillmode\":\"overlay\",\"size\":10,\"solidity\":0.2}},\"type\":\"histogram\"}],\"scattergl\":[{\"type\":\"scattergl\",\"marker\":{\"colorbar\":{\"outlinewidth\":0,\"ticks\":\"\"}}}],\"scatter3d\":[{\"type\":\"scatter3d\",\"line\":{\"colorbar\":{\"outlinewidth\":0,\"ticks\":\"\"}},\"marker\":{\"colorbar\":{\"outlinewidth\":0,\"ticks\":\"\"}}}],\"scattermapbox\":[{\"type\":\"scattermapbox\",\"marker\":{\"colorbar\":{\"outlinewidth\":0,\"ticks\":\"\"}}}],\"scatterternary\":[{\"type\":\"scatterternary\",\"marker\":{\"colorbar\":{\"outlinewidth\":0,\"ticks\":\"\"}}}],\"scattercarpet\":[{\"type\":\"scattercarpet\",\"marker\":{\"colorbar\":{\"outlinewidth\":0,\"ticks\":\"\"}}}],\"carpet\":[{\"aaxis\":{\"endlinecolor\":\"#2a3f5f\",\"gridcolor\":\"white\",\"linecolor\":\"white\",\"minorgridcolor\":\"white\",\"startlinecolor\":\"#2a3f5f\"},\"baxis\":{\"endlinecolor\":\"#2a3f5f\",\"gridcolor\":\"white\",\"linecolor\":\"white\",\"minorgridcolor\":\"white\",\"startlinecolor\":\"#2a3f5f\"},\"type\":\"carpet\"}],\"table\":[{\"cells\":{\"fill\":{\"color\":\"#EBF0F8\"},\"line\":{\"color\":\"white\"}},\"header\":{\"fill\":{\"color\":\"#C8D4E3\"},\"line\":{\"color\":\"white\"}},\"type\":\"table\"}],\"barpolar\":[{\"marker\":{\"line\":{\"color\":\"#E5ECF6\",\"width\":0.5},\"pattern\":{\"fillmode\":\"overlay\",\"size\":10,\"solidity\":0.2}},\"type\":\"barpolar\"}],\"pie\":[{\"automargin\":true,\"type\":\"pie\"}]},\"layout\":{\"autotypenumbers\":\"strict\",\"colorway\":[\"#636efa\",\"#EF553B\",\"#00cc96\",\"#ab63fa\",\"#FFA15A\",\"#19d3f3\",\"#FF6692\",\"#B6E880\",\"#FF97FF\",\"#FECB52\"],\"font\":{\"color\":\"#2a3f5f\"},\"hovermode\":\"closest\",\"hoverlabel\":{\"align\":\"left\"},\"paper_bgcolor\":\"white\",\"plot_bgcolor\":\"#E5ECF6\",\"polar\":{\"bgcolor\":\"#E5ECF6\",\"angularaxis\":{\"gridcolor\":\"white\",\"linecolor\":\"white\",\"ticks\":\"\"},\"radialaxis\":{\"gridcolor\":\"white\",\"linecolor\":\"white\",\"ticks\":\"\"}},\"ternary\":{\"bgcolor\":\"#E5ECF6\",\"aaxis\":{\"gridcolor\":\"white\",\"linecolor\":\"white\",\"ticks\":\"\"},\"baxis\":{\"gridcolor\":\"white\",\"linecolor\":\"white\",\"ticks\":\"\"},\"caxis\":{\"gridcolor\":\"white\",\"linecolor\":\"white\",\"ticks\":\"\"}},\"coloraxis\":{\"colorbar\":{\"outlinewidth\":0,\"ticks\":\"\"}},\"colorscale\":{\"sequential\":[[0.0,\"#0d0887\"],[0.1111111111111111,\"#46039f\"],[0.2222222222222222,\"#7201a8\"],[0.3333333333333333,\"#9c179e\"],[0.4444444444444444,\"#bd3786\"],[0.5555555555555556,\"#d8576b\"],[0.6666666666666666,\"#ed7953\"],[0.7777777777777778,\"#fb9f3a\"],[0.8888888888888888,\"#fdca26\"],[1.0,\"#f0f921\"]],\"sequentialminus\":[[0.0,\"#0d0887\"],[0.1111111111111111,\"#46039f\"],[0.2222222222222222,\"#7201a8\"],[0.3333333333333333,\"#9c179e\"],[0.4444444444444444,\"#bd3786\"],[0.5555555555555556,\"#d8576b\"],[0.6666666666666666,\"#ed7953\"],[0.7777777777777778,\"#fb9f3a\"],[0.8888888888888888,\"#fdca26\"],[1.0,\"#f0f921\"]],\"diverging\":[[0,\"#8e0152\"],[0.1,\"#c51b7d\"],[0.2,\"#de77ae\"],[0.3,\"#f1b6da\"],[0.4,\"#fde0ef\"],[0.5,\"#f7f7f7\"],[0.6,\"#e6f5d0\"],[0.7,\"#b8e186\"],[0.8,\"#7fbc41\"],[0.9,\"#4d9221\"],[1,\"#276419\"]]},\"xaxis\":{\"gridcolor\":\"white\",\"linecolor\":\"white\",\"ticks\":\"\",\"title\":{\"standoff\":15},\"zerolinecolor\":\"white\",\"automargin\":true,\"zerolinewidth\":2},\"yaxis\":{\"gridcolor\":\"white\",\"linecolor\":\"white\",\"ticks\":\"\",\"title\":{\"standoff\":15},\"zerolinecolor\":\"white\",\"automargin\":true,\"zerolinewidth\":2},\"scene\":{\"xaxis\":{\"backgroundcolor\":\"#E5ECF6\",\"gridcolor\":\"white\",\"linecolor\":\"white\",\"showbackground\":true,\"ticks\":\"\",\"zerolinecolor\":\"white\",\"gridwidth\":2},\"yaxis\":{\"backgroundcolor\":\"#E5ECF6\",\"gridcolor\":\"white\",\"linecolor\":\"white\",\"showbackground\":true,\"ticks\":\"\",\"zerolinecolor\":\"white\",\"gridwidth\":2},\"zaxis\":{\"backgroundcolor\":\"#E5ECF6\",\"gridcolor\":\"white\",\"linecolor\":\"white\",\"showbackground\":true,\"ticks\":\"\",\"zerolinecolor\":\"white\",\"gridwidth\":2}},\"shapedefaults\":{\"line\":{\"color\":\"#2a3f5f\"}},\"annotationdefaults\":{\"arrowcolor\":\"#2a3f5f\",\"arrowhead\":0,\"arrowwidth\":1},\"geo\":{\"bgcolor\":\"white\",\"landcolor\":\"#E5ECF6\",\"subunitcolor\":\"white\",\"showland\":true,\"showlakes\":true,\"lakecolor\":\"white\"},\"title\":{\"x\":0.05},\"mapbox\":{\"style\":\"light\"}}},\"height\":1000},                        {\"responsive\": true}                    ).then(function(){\n",
              "                            \n",
              "var gd = document.getElementById('bc2434f8-44ff-4090-94a9-ef591e2bc9ee');\n",
              "var x = new MutationObserver(function (mutations, observer) {{\n",
              "        var display = window.getComputedStyle(gd).display;\n",
              "        if (!display || display === 'none') {{\n",
              "            console.log([gd, 'removed!']);\n",
              "            Plotly.purge(gd);\n",
              "            observer.disconnect();\n",
              "        }}\n",
              "}});\n",
              "\n",
              "// Listen for the removal of the full notebook cells\n",
              "var notebookContainer = gd.closest('#notebook-container');\n",
              "if (notebookContainer) {{\n",
              "    x.observe(notebookContainer, {childList: true});\n",
              "}}\n",
              "\n",
              "// Listen for the clearing of the current output cell\n",
              "var outputEl = gd.closest('.output');\n",
              "if (outputEl) {{\n",
              "    x.observe(outputEl, {childList: true});\n",
              "}}\n",
              "\n",
              "                        })                };                            </script>        </div>\n",
              "</body>\n",
              "</html>"
            ]
          },
          "metadata": {}
        }
      ]
    },
    {
      "cell_type": "code",
      "source": [],
      "metadata": {
        "id": "ml6MLoeik5BP"
      },
      "execution_count": null,
      "outputs": []
    }
  ]
}