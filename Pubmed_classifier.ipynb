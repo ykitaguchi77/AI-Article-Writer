{
  "nbformat": 4,
  "nbformat_minor": 0,
  "metadata": {
    "colab": {
      "provenance": [],
      "authorship_tag": "ABX9TyPEpwRsE7qAlMrmzJ4CSYJf",
      "include_colab_link": true
    },
    "kernelspec": {
      "name": "python3",
      "display_name": "Python 3"
    },
    "language_info": {
      "name": "python"
    }
  },
  "cells": [
    {
      "cell_type": "markdown",
      "metadata": {
        "id": "view-in-github",
        "colab_type": "text"
      },
      "source": [
        "<a href=\"https://colab.research.google.com/github/ykitaguchi77/AI-Article-Writer/blob/main/Pubmed_classifier.ipynb\" target=\"_parent\"><img src=\"https://colab.research.google.com/assets/colab-badge.svg\" alt=\"Open In Colab\"/></a>"
      ]
    },
    {
      "cell_type": "markdown",
      "source": [
        "#**PubMed論文分類**\n",
        "\n",
        "1. PubMedで検索したものをsave (all results, abstract<text>)してダウンロードする\n",
        "\n",
        "2. article_list.txtとリネームしてcontent配下にアップロードする"
      ],
      "metadata": {
        "id": "1TOff2q4ntrg"
      }
    },
    {
      "cell_type": "code",
      "execution_count": 13,
      "metadata": {
        "colab": {
          "base_uri": "https://localhost:8080/"
        },
        "id": "ns8nD1f1npYX",
        "outputId": "935103fb-87c8-4a07-b0fe-1f8520e0b18b"
      },
      "outputs": [
        {
          "output_type": "stream",
          "name": "stdout",
          "text": [
            "CSV file 'pubmed_articles.csv' has been created with 7064 articles.\n"
          ]
        }
      ],
      "source": [
        "import re\n",
        "import csv\n",
        "from typing import List, Dict\n",
        "\n",
        "def split_into_items(text: str) -> List[str]:\n",
        "    \"\"\"Split the text into items based on double newlines.\"\"\"\n",
        "    return [item.strip() for item in re.split(r'\\n\\n+', text) if item.strip()]\n",
        "\n",
        "def clean_authors(authors: str) -> str:\n",
        "    \"\"\"Remove numbered brackets from the authors string.\"\"\"\n",
        "    return re.sub(r'\\(\\d+\\)', '', authors).replace('  ', ' ').strip()\n",
        "\n",
        "def extract_article_info(items: List[str]) -> Dict[str, str]:\n",
        "    \"\"\"Extract relevant information from a list of items.\"\"\"\n",
        "    info = {\n",
        "        'Title': '',\n",
        "        'Authors': '',\n",
        "        'DOI': '',\n",
        "        'PMID': '',\n",
        "        'Abstract': ''\n",
        "    }\n",
        "\n",
        "    abstract_keywords = r'PURPOSE|BACKGROUND|OBJECTIVE|ABSTRACT|OBJECTIVES|case|CONCLUSION'\n",
        "\n",
        "    for i, item in enumerate(items):\n",
        "        if re.search(r'\\(\\d+\\)[,.]', item):\n",
        "            info['Authors'] = clean_authors(item)\n",
        "            if i > 1:\n",
        "                info['Title'] = items[i-1]\n",
        "        elif re.match(abstract_keywords, item, re.IGNORECASE) and item != info['Title']:\n",
        "            info['Abstract'] = item\n",
        "\n",
        "    # Extract DOI and PMID from the full text\n",
        "    full_text = '\\n'.join(items)\n",
        "    doi_match = re.search(r'DOI: (.*?)(?:\\n|$)', full_text)\n",
        "    if doi_match:\n",
        "        info['DOI'] = doi_match.group(1).strip()\n",
        "\n",
        "    pmid_match = re.search(r'PMID: (\\d+)', full_text)\n",
        "    if pmid_match:\n",
        "        info['PMID'] = pmid_match.group(1).strip()\n",
        "\n",
        "    return info\n",
        "\n",
        "def parse_pubmed_text(text: str) -> List[Dict[str, str]]:\n",
        "    \"\"\"Parse the entire PubMed text and extract information for each article.\"\"\"\n",
        "    articles = re.split(r'\\n\\n\\d+\\.', text)[1:]  # Split the text into individual articles\n",
        "    return [extract_article_info(split_into_items(article.strip())) for article in articles]\n",
        "\n",
        "def write_to_csv(articles: List[Dict[str, str]], filename: str):\n",
        "    \"\"\"Write the extracted information to a CSV file.\"\"\"\n",
        "    fieldnames = ['Title', 'Authors', 'DOI', 'PMID', 'Abstract']\n",
        "\n",
        "    with open(filename, 'w', newline='', encoding='utf-8') as csvfile:\n",
        "        writer = csv.DictWriter(csvfile, fieldnames=fieldnames)\n",
        "        writer.writeheader()\n",
        "        for article in articles:\n",
        "            writer.writerow(article)\n",
        "\n",
        "# Main execution\n",
        "if __name__ == \"__main__\":\n",
        "    # Read the input file\n",
        "    with open('article_list.txt', 'r', encoding='utf-8') as file:\n",
        "        text = file.read()\n",
        "\n",
        "    # Parse the text and extract article information\n",
        "    articles = parse_pubmed_text(text)\n",
        "\n",
        "    # Write the extracted information to a CSV file\n",
        "    write_to_csv(articles, 'pubmed_articles.csv')\n",
        "\n",
        "    print(f\"CSV file 'pubmed_articles.csv' has been created with {len(articles)} articles.\")"
      ]
    },
    {
      "cell_type": "code",
      "source": [],
      "metadata": {
        "id": "N2B5BhP1oZyM"
      },
      "execution_count": null,
      "outputs": []
    }
  ]
}