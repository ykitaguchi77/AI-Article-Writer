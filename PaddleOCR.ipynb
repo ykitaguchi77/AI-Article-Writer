{
  "nbformat": 4,
  "nbformat_minor": 0,
  "metadata": {
    "colab": {
      "provenance": [],
      "authorship_tag": "ABX9TyPdKXR6TJM1F/pgGkDlalYo",
      "include_colab_link": true
    },
    "kernelspec": {
      "name": "python3",
      "display_name": "Python 3"
    },
    "language_info": {
      "name": "python"
    }
  },
  "cells": [
    {
      "cell_type": "markdown",
      "metadata": {
        "id": "view-in-github",
        "colab_type": "text"
      },
      "source": [
        "<a href=\"https://colab.research.google.com/github/ykitaguchi77/AI-Article-Writer/blob/main/PaddleOCR.ipynb\" target=\"_parent\"><img src=\"https://colab.research.google.com/assets/colab-badge.svg\" alt=\"Open In Colab\"/></a>"
      ]
    },
    {
      "cell_type": "code",
      "source": [
        "\n"
      ],
      "metadata": {
        "id": "VwZyTK5j6vqw"
      },
      "execution_count": null,
      "outputs": []
    },
    {
      "cell_type": "markdown",
      "source": [
        "#**OCR using PaddleOCR**"
      ],
      "metadata": {
        "id": "GBBzTCY2-Fj_"
      }
    },
    {
      "cell_type": "code",
      "execution_count": 1,
      "metadata": {
        "colab": {
          "base_uri": "https://localhost:8080/",
          "height": 95
        },
        "id": "SoiOaSbq4y7s",
        "outputId": "9e74eb7d-9d12-4377-f16b-dee5b66fcbdf"
      },
      "outputs": [
        {
          "output_type": "display_data",
          "data": {
            "text/plain": [
              "<IPython.core.display.HTML object>"
            ],
            "text/html": [
              "\n",
              "     <input type=\"file\" id=\"files-00897b02-7a20-4def-9eb1-64d715aea205\" name=\"files[]\" multiple disabled\n",
              "        style=\"border:none\" />\n",
              "     <output id=\"result-00897b02-7a20-4def-9eb1-64d715aea205\">\n",
              "      Upload widget is only available when the cell has been executed in the\n",
              "      current browser session. Please rerun this cell to enable.\n",
              "      </output>\n",
              "      <script>// Copyright 2017 Google LLC\n",
              "//\n",
              "// Licensed under the Apache License, Version 2.0 (the \"License\");\n",
              "// you may not use this file except in compliance with the License.\n",
              "// You may obtain a copy of the License at\n",
              "//\n",
              "//      http://www.apache.org/licenses/LICENSE-2.0\n",
              "//\n",
              "// Unless required by applicable law or agreed to in writing, software\n",
              "// distributed under the License is distributed on an \"AS IS\" BASIS,\n",
              "// WITHOUT WARRANTIES OR CONDITIONS OF ANY KIND, either express or implied.\n",
              "// See the License for the specific language governing permissions and\n",
              "// limitations under the License.\n",
              "\n",
              "/**\n",
              " * @fileoverview Helpers for google.colab Python module.\n",
              " */\n",
              "(function(scope) {\n",
              "function span(text, styleAttributes = {}) {\n",
              "  const element = document.createElement('span');\n",
              "  element.textContent = text;\n",
              "  for (const key of Object.keys(styleAttributes)) {\n",
              "    element.style[key] = styleAttributes[key];\n",
              "  }\n",
              "  return element;\n",
              "}\n",
              "\n",
              "// Max number of bytes which will be uploaded at a time.\n",
              "const MAX_PAYLOAD_SIZE = 100 * 1024;\n",
              "\n",
              "function _uploadFiles(inputId, outputId) {\n",
              "  const steps = uploadFilesStep(inputId, outputId);\n",
              "  const outputElement = document.getElementById(outputId);\n",
              "  // Cache steps on the outputElement to make it available for the next call\n",
              "  // to uploadFilesContinue from Python.\n",
              "  outputElement.steps = steps;\n",
              "\n",
              "  return _uploadFilesContinue(outputId);\n",
              "}\n",
              "\n",
              "// This is roughly an async generator (not supported in the browser yet),\n",
              "// where there are multiple asynchronous steps and the Python side is going\n",
              "// to poll for completion of each step.\n",
              "// This uses a Promise to block the python side on completion of each step,\n",
              "// then passes the result of the previous step as the input to the next step.\n",
              "function _uploadFilesContinue(outputId) {\n",
              "  const outputElement = document.getElementById(outputId);\n",
              "  const steps = outputElement.steps;\n",
              "\n",
              "  const next = steps.next(outputElement.lastPromiseValue);\n",
              "  return Promise.resolve(next.value.promise).then((value) => {\n",
              "    // Cache the last promise value to make it available to the next\n",
              "    // step of the generator.\n",
              "    outputElement.lastPromiseValue = value;\n",
              "    return next.value.response;\n",
              "  });\n",
              "}\n",
              "\n",
              "/**\n",
              " * Generator function which is called between each async step of the upload\n",
              " * process.\n",
              " * @param {string} inputId Element ID of the input file picker element.\n",
              " * @param {string} outputId Element ID of the output display.\n",
              " * @return {!Iterable<!Object>} Iterable of next steps.\n",
              " */\n",
              "function* uploadFilesStep(inputId, outputId) {\n",
              "  const inputElement = document.getElementById(inputId);\n",
              "  inputElement.disabled = false;\n",
              "\n",
              "  const outputElement = document.getElementById(outputId);\n",
              "  outputElement.innerHTML = '';\n",
              "\n",
              "  const pickedPromise = new Promise((resolve) => {\n",
              "    inputElement.addEventListener('change', (e) => {\n",
              "      resolve(e.target.files);\n",
              "    });\n",
              "  });\n",
              "\n",
              "  const cancel = document.createElement('button');\n",
              "  inputElement.parentElement.appendChild(cancel);\n",
              "  cancel.textContent = 'Cancel upload';\n",
              "  const cancelPromise = new Promise((resolve) => {\n",
              "    cancel.onclick = () => {\n",
              "      resolve(null);\n",
              "    };\n",
              "  });\n",
              "\n",
              "  // Wait for the user to pick the files.\n",
              "  const files = yield {\n",
              "    promise: Promise.race([pickedPromise, cancelPromise]),\n",
              "    response: {\n",
              "      action: 'starting',\n",
              "    }\n",
              "  };\n",
              "\n",
              "  cancel.remove();\n",
              "\n",
              "  // Disable the input element since further picks are not allowed.\n",
              "  inputElement.disabled = true;\n",
              "\n",
              "  if (!files) {\n",
              "    return {\n",
              "      response: {\n",
              "        action: 'complete',\n",
              "      }\n",
              "    };\n",
              "  }\n",
              "\n",
              "  for (const file of files) {\n",
              "    const li = document.createElement('li');\n",
              "    li.append(span(file.name, {fontWeight: 'bold'}));\n",
              "    li.append(span(\n",
              "        `(${file.type || 'n/a'}) - ${file.size} bytes, ` +\n",
              "        `last modified: ${\n",
              "            file.lastModifiedDate ? file.lastModifiedDate.toLocaleDateString() :\n",
              "                                    'n/a'} - `));\n",
              "    const percent = span('0% done');\n",
              "    li.appendChild(percent);\n",
              "\n",
              "    outputElement.appendChild(li);\n",
              "\n",
              "    const fileDataPromise = new Promise((resolve) => {\n",
              "      const reader = new FileReader();\n",
              "      reader.onload = (e) => {\n",
              "        resolve(e.target.result);\n",
              "      };\n",
              "      reader.readAsArrayBuffer(file);\n",
              "    });\n",
              "    // Wait for the data to be ready.\n",
              "    let fileData = yield {\n",
              "      promise: fileDataPromise,\n",
              "      response: {\n",
              "        action: 'continue',\n",
              "      }\n",
              "    };\n",
              "\n",
              "    // Use a chunked sending to avoid message size limits. See b/62115660.\n",
              "    let position = 0;\n",
              "    do {\n",
              "      const length = Math.min(fileData.byteLength - position, MAX_PAYLOAD_SIZE);\n",
              "      const chunk = new Uint8Array(fileData, position, length);\n",
              "      position += length;\n",
              "\n",
              "      const base64 = btoa(String.fromCharCode.apply(null, chunk));\n",
              "      yield {\n",
              "        response: {\n",
              "          action: 'append',\n",
              "          file: file.name,\n",
              "          data: base64,\n",
              "        },\n",
              "      };\n",
              "\n",
              "      let percentDone = fileData.byteLength === 0 ?\n",
              "          100 :\n",
              "          Math.round((position / fileData.byteLength) * 100);\n",
              "      percent.textContent = `${percentDone}% done`;\n",
              "\n",
              "    } while (position < fileData.byteLength);\n",
              "  }\n",
              "\n",
              "  // All done.\n",
              "  yield {\n",
              "    response: {\n",
              "      action: 'complete',\n",
              "    }\n",
              "  };\n",
              "}\n",
              "\n",
              "scope.google = scope.google || {};\n",
              "scope.google.colab = scope.google.colab || {};\n",
              "scope.google.colab._files = {\n",
              "  _uploadFiles,\n",
              "  _uploadFilesContinue,\n",
              "};\n",
              "})(self);\n",
              "</script> "
            ]
          },
          "metadata": {}
        },
        {
          "output_type": "stream",
          "name": "stdout",
          "text": [
            "Saving APJO_LICENSE_TO_PUBLISH_2019.pdf to APJO_LICENSE_TO_PUBLISH_2019.pdf\n"
          ]
        }
      ],
      "source": [
        "import os\n",
        "from google.colab import files\n",
        "uploaded = files.upload()\n",
        "\n",
        "# フォルダのパス\n",
        "folder_path = '/content/files'\n",
        "\n",
        "# フォルダが存在しない場合は作成\n",
        "if not os.path.exists(folder_path):\n",
        "    os.makedirs(folder_path)\n",
        "\n",
        "for filename in uploaded.keys():\n",
        "    # 元のファイルパス\n",
        "    original_path = '/content/' + filename\n",
        "\n",
        "    # 新しいファイルパス\n",
        "    new_path = os.path.join(folder_path, filename)\n",
        "\n",
        "    # ファイルを新しいフォルダに移動\n",
        "    os.rename(original_path, new_path)"
      ]
    },
    {
      "cell_type": "code",
      "source": [
        "!pip install paddlepaddle paddleocr\n",
        "from paddleocr import PaddleOCR\n",
        "ocr_model = PaddleOCR(use_angle_cls=True, lang='en')\n",
        "\n"
      ],
      "metadata": {
        "id": "YWUVref96PkE"
      },
      "execution_count": null,
      "outputs": []
    },
    {
      "cell_type": "code",
      "source": [],
      "metadata": {
        "colab": {
          "base_uri": "https://localhost:8080/"
        },
        "id": "1DDzq_BH6TzD",
        "outputId": "c67d6d70-fae2-4447-8644-43c0a1bdb046"
      },
      "execution_count": 4,
      "outputs": [
        {
          "output_type": "stream",
          "name": "stdout",
          "text": [
            "download https://paddleocr.bj.bcebos.com/PP-OCRv3/english/en_PP-OCRv3_det_infer.tar to /root/.paddleocr/whl/det/en/en_PP-OCRv3_det_infer/en_PP-OCRv3_det_infer.tar\n"
          ]
        },
        {
          "output_type": "stream",
          "name": "stderr",
          "text": [
            "100%|██████████| 4.00M/4.00M [00:17<00:00, 230kiB/s] \n"
          ]
        },
        {
          "output_type": "stream",
          "name": "stdout",
          "text": [
            "download https://paddleocr.bj.bcebos.com/PP-OCRv4/english/en_PP-OCRv4_rec_infer.tar to /root/.paddleocr/whl/rec/en/en_PP-OCRv4_rec_infer/en_PP-OCRv4_rec_infer.tar\n"
          ]
        },
        {
          "output_type": "stream",
          "name": "stderr",
          "text": [
            "100%|██████████| 10.2M/10.2M [00:11<00:00, 897kiB/s] \n"
          ]
        },
        {
          "output_type": "stream",
          "name": "stdout",
          "text": [
            "download https://paddleocr.bj.bcebos.com/dygraph_v2.0/ch/ch_ppocr_mobile_v2.0_cls_infer.tar to /root/.paddleocr/whl/cls/ch_ppocr_mobile_v2.0_cls_infer/ch_ppocr_mobile_v2.0_cls_infer.tar\n"
          ]
        },
        {
          "output_type": "stream",
          "name": "stderr",
          "text": [
            "100%|██████████| 2.19M/2.19M [00:07<00:00, 298kiB/s]"
          ]
        },
        {
          "output_type": "stream",
          "name": "stdout",
          "text": [
            "[2023/11/29 16:31:47] ppocr DEBUG: Namespace(help='==SUPPRESS==', use_gpu=False, use_xpu=False, use_npu=False, ir_optim=True, use_tensorrt=False, min_subgraph_size=15, precision='fp32', gpu_mem=500, gpu_id=0, image_dir=None, page_num=0, det_algorithm='DB', det_model_dir='/root/.paddleocr/whl/det/en/en_PP-OCRv3_det_infer', det_limit_side_len=960, det_limit_type='max', det_box_type='quad', det_db_thresh=0.3, det_db_box_thresh=0.6, det_db_unclip_ratio=1.5, max_batch_size=10, use_dilation=False, det_db_score_mode='fast', det_east_score_thresh=0.8, det_east_cover_thresh=0.1, det_east_nms_thresh=0.2, det_sast_score_thresh=0.5, det_sast_nms_thresh=0.2, det_pse_thresh=0, det_pse_box_thresh=0.85, det_pse_min_area=16, det_pse_scale=1, scales=[8, 16, 32], alpha=1.0, beta=1.0, fourier_degree=5, rec_algorithm='SVTR_LCNet', rec_model_dir='/root/.paddleocr/whl/rec/en/en_PP-OCRv4_rec_infer', rec_image_inverse=True, rec_image_shape='3, 48, 320', rec_batch_num=6, max_text_length=25, rec_char_dict_path='/usr/local/lib/python3.10/dist-packages/paddleocr/ppocr/utils/en_dict.txt', use_space_char=True, vis_font_path='./doc/fonts/simfang.ttf', drop_score=0.5, e2e_algorithm='PGNet', e2e_model_dir=None, e2e_limit_side_len=768, e2e_limit_type='max', e2e_pgnet_score_thresh=0.5, e2e_char_dict_path='./ppocr/utils/ic15_dict.txt', e2e_pgnet_valid_set='totaltext', e2e_pgnet_mode='fast', use_angle_cls=True, cls_model_dir='/root/.paddleocr/whl/cls/ch_ppocr_mobile_v2.0_cls_infer', cls_image_shape='3, 48, 192', label_list=['0', '180'], cls_batch_num=6, cls_thresh=0.9, enable_mkldnn=False, cpu_threads=10, use_pdserving=False, warmup=False, sr_model_dir=None, sr_image_shape='3, 32, 128', sr_batch_num=1, draw_img_save_dir='./inference_results', save_crop_res=False, crop_res_save_dir='./output', use_mp=False, total_process_num=1, process_id=0, benchmark=False, save_log_path='./log_output/', show_log=True, use_onnx=False, output='./output', table_max_len=488, table_algorithm='TableAttn', table_model_dir=None, merge_no_span_structure=True, table_char_dict_path=None, layout_model_dir=None, layout_dict_path=None, layout_score_threshold=0.5, layout_nms_threshold=0.5, kie_algorithm='LayoutXLM', ser_model_dir=None, re_model_dir=None, use_visual_backbone=True, ser_dict_path='../train_data/XFUND/class_list_xfun.txt', ocr_order_method=None, mode='structure', image_orientation=False, layout=True, table=True, ocr=True, recovery=False, use_pdf2docx_api=False, invert=False, binarize=False, alphacolor=(255, 255, 255), lang='en', det=True, rec=True, type='ocr', ocr_version='PP-OCRv4', structure_version='PP-StructureV2')\n"
          ]
        },
        {
          "output_type": "stream",
          "name": "stderr",
          "text": [
            "\n"
          ]
        }
      ]
    },
    {
      "cell_type": "code",
      "source": [
        "import glob\n",
        "\n",
        "file = glob.glob(f\"/content/files/*\")[0]\n",
        "\n",
        "result = ocr_model.ocr(file)\n",
        "for line in result:\n",
        "    print(line)\n"
      ],
      "metadata": {
        "colab": {
          "base_uri": "https://localhost:8080/"
        },
        "id": "Oc9tBukY6GJe",
        "outputId": "d93433c6-b0ac-4d19-e2f0-2a89759ecfd1"
      },
      "execution_count": 5,
      "outputs": [
        {
          "output_type": "stream",
          "name": "stdout",
          "text": [
            "[2023/11/29 16:32:30] ppocr DEBUG: dt_boxes num : 99, elapsed : 1.6467740535736084\n",
            "[2023/11/29 16:32:31] ppocr DEBUG: cls num  : 99, elapsed : 1.2119269371032715\n",
            "[2023/11/29 16:33:18] ppocr DEBUG: rec_res num  : 99, elapsed : 47.25779700279236\n",
            "[2023/11/29 16:33:19] ppocr DEBUG: dt_boxes num : 49, elapsed : 0.8250656127929688\n",
            "[2023/11/29 16:33:20] ppocr DEBUG: cls num  : 49, elapsed : 0.43886780738830566\n",
            "[2023/11/29 16:33:47] ppocr DEBUG: rec_res num  : 49, elapsed : 27.10778832435608\n",
            "[[[[147.0, 114.0], [248.0, 117.0], [247.0, 141.0], [146.0, 137.0]], ('Asia-Pacific', 0.9911301136016846)], [[[818.0, 127.0], [1143.0, 127.0], [1143.0, 167.0], [818.0, 167.0]], ('Wolters Kluwer', 0.999315619468689)], [[[129.0, 140.0], [267.0, 147.0], [265.0, 177.0], [128.0, 169.0]], ('Ophthalmology', 0.9976414442062378)], [[[110.0, 241.0], [1028.0, 241.0], [1028.0, 279.0], [110.0, 279.0]], ('Asia-Pacific Journal of Ophthalmology - LICENSE TO', 0.9733807444572449)], [[[108.0, 282.0], [268.0, 282.0], [268.0, 317.0], [108.0, 317.0]], ('PUBLISH', 0.9980500936508179)], [[[105.0, 416.0], [600.0, 417.0], [600.0, 439.0], [105.0, 437.0]], ('This LICENSE TO PUBLISH (this \"License\"), is executed by the corresponding', 0.9759794473648071)], [[[624.0, 417.0], [1098.0, 417.0], [1098.0, 439.0], [624.0, 439.0]], ('financial or material support, and allfinancial or other relationships that', 0.9873864650726318)], [[[106.0, 439.0], [552.0, 439.0], [552.0, 455.0], [106.0, 455.0]], (\"author listed as the 'Corresponding Author' in the Editorial Manager\", 0.9919036626815796)], [[[625.0, 439.0], [930.0, 439.0], [930.0, 455.0], [625.0, 455.0]], ('may constitute or lead to a conflict of interest;', 0.9949154853820801)], [[[106.0, 459.0], [572.0, 459.0], [572.0, 475.0], [106.0, 475.0]], ('submission site (the \"Author\") to grant a license to the Health Learning,', 0.9852409958839417)], [[[624.0, 464.0], [1073.0, 464.0], [1073.0, 485.0], [624.0, 485.0]], ('(vii) the Work is not subject to any rights of copyright other than the', 0.9931198954582214)], [[[105.0, 475.0], [574.0, 475.0], [574.0, 497.0], [105.0, 497.0]], ('Research & Practice Division of Wolters Kluwer Health, Inc., a Delaware', 0.9922888278961182)], [[[624.0, 483.0], [1016.0, 483.0], [1016.0, 505.0], [624.0, 505.0]], ('copyright of the Author and each other author of the Work;', 0.9953659772872925)], [[[106.0, 498.0], [550.0, 498.0], [550.0, 515.0], [106.0, 515.0]], ('corporation, having its principal place of business at Two Commerce', 0.9980669021606445)], [[[103.0, 515.0], [587.0, 513.0], [587.0, 535.0], [103.0, 536.0]], (' Square, 2001 Market Street, Philadelphia, PA 19103 (the \"Publisher\", and', 0.9877299666404724)], [[[624.0, 511.0], [1109.0, 511.0], [1109.0, 533.0], [624.0, 533.0]], ('(ix) the Work does not and will not violate the publicity or privacy rightsof', 0.9943223595619202)], [[[105.0, 535.0], [569.0, 535.0], [569.0, 556.0], [105.0, 556.0]], ('together with the Author, each, a \"Party\", and together, the \"Parties\").', 0.9868338704109192)], [[[622.0, 530.0], [951.0, 531.0], [951.0, 553.0], [622.0, 551.0]], (' any third party, or libel or slander any third party;', 0.9695903062820435)], [[[624.0, 558.0], [1088.0, 559.0], [1088.0, 578.0], [624.0, 576.0]], ('(x) the Work does not and will not contain any scandalous, obscene, or', 0.989076554775238)], [[[105.0, 576.0], [231.0, 576.0], [231.0, 592.0], [105.0, 592.0]], ('1. Grant of License', 0.9734340310096741)], [[[625.0, 581.0], [848.0, 581.0], [848.0, 597.0], [625.0, 597.0]], ('negligently prepared information;', 0.989496648311615)], [[[105.0, 591.0], [579.0, 591.0], [579.0, 612.0], [105.0, 612.0]], ('The Author hereby grants to the Publisher and its affiliates the exclusive', 0.9800618886947632)], [[[105.0, 612.0], [557.0, 612.0], [557.0, 634.0], [105.0, 634.0]], ('worldwide, royalty free, perpetual (for the duration of the applicable', 0.9945891499519348)], [[[624.0, 606.0], [1094.0, 607.0], [1094.0, 625.0], [624.0, 624.0]], ('(xi) the Work is not and will not be fraudulent, plagiarized, orincorrectly', 0.9814371466636658)], [[[105.0, 632.0], [542.0, 630.0], [542.0, 652.0], [105.0, 653.0]], ('copyright) right and license to use the Work (as defined in Editorial', 0.9886380434036255)], [[[624.0, 627.0], [700.0, 627.0], [700.0, 644.0], [624.0, 644.0]], ('attributed;', 0.9985425472259521)], [[[105.0, 652.0], [575.0, 652.0], [575.0, 673.0], [105.0, 673.0]], ('Manager) for all commercial or educational purposes, including, but not', 0.9868468046188354)], [[[625.0, 655.0], [1078.0, 655.0], [1078.0, 672.0], [625.0, 672.0]], (\"(xii) no aspect of the Author's personal or professional circumstances\", 0.9808241724967957)], [[[105.0, 670.0], [572.0, 672.0], [572.0, 693.0], [105.0, 691.0]], ('limited to, publishing, reproducing, marketing, distributing (themselves', 0.9886012673377991)], [[[624.0, 673.0], [1109.0, 672.0], [1109.0, 690.0], [624.0, 691.0]], ('currently, or in the past 12 months, causes the Author to have a conflict of', 0.9930536150932312)], [[[108.0, 693.0], [564.0, 693.0], [564.0, 710.0], [108.0, 710.0]], ('and through distributors), sublicensing, and selling copies of the Work', 0.9884900450706482)], [[[625.0, 695.0], [848.0, 695.0], [848.0, 711.0], [625.0, 711.0]], ('interest with respect to the Work;', 0.9942687749862671)], [[[105.0, 710.0], [544.0, 710.0], [544.0, 731.0], [105.0, 731.0]], ('throughout the world for the Term. If the Author is a United States', 0.9780787229537964)], [[[105.0, 729.0], [595.0, 729.0], [595.0, 751.0], [105.0, 751.0]], ('government employee, such license grant shall be limited to the extent the', 0.9851383566856384)], [[[625.0, 721.0], [1071.0, 721.0], [1071.0, 738.0], [625.0, 738.0]], (\"(xili) neither the Author, nor any member of the Author's immediate\", 0.9815449714660645)], [[[103.0, 749.0], [339.0, 749.0], [339.0, 771.0], [103.0, 771.0]], ('Author is able to grant such license..', 0.9802051186561584)], [[[625.0, 741.0], [1104.0, 741.0], [1104.0, 757.0], [625.0, 757.0]], ('family, nor any individual or entity with whom or which the Author has or', 0.9969041347503662)], [[[625.0, 761.0], [1098.0, 761.0], [1098.0, 777.0], [625.0, 777.0]], ('has had a significant working relationship has received anything of value', 0.992861807346344)], [[[622.0, 777.0], [1106.0, 777.0], [1106.0, 799.0], [622.0, 799.0]], (' from a commercial party related directly or indirectly to the subject of the', 0.9917389750480652)], [[[106.0, 790.0], [489.0, 790.0], [489.0, 807.0], [106.0, 807.0]], ('2. Warranties, Indemnification, and Limitation of Liability', 0.9855643510818481)], [[[624.0, 799.0], [697.0, 799.0], [697.0, 815.0], [624.0, 815.0]], ('Work; and', 0.9984824061393738)], [[[105.0, 830.0], [499.0, 830.0], [499.0, 846.0], [105.0, 846.0]], ('a. The Author represents and warrants to the Publisher that:', 0.9782606959342957)], [[[622.0, 835.0], [1106.0, 837.0], [1106.0, 858.0], [622.0, 856.0]], ('b. The Author hereby indemnifies the Publisher and its directors, officers,', 0.9883880615234375)], [[[103.0, 865.0], [582.0, 866.0], [582.0, 888.0], [103.0, 886.0]], ('(i) the Author has the right and power to enter into this License, to grant', 0.9978089332580566)], [[[624.0, 856.0], [1089.0, 855.0], [1089.0, 876.0], [624.0, 878.0]], ('employees, agents, and representatives and agrees to defend and hold', 0.9831846952438354)], [[[105.0, 886.0], [592.0, 886.0], [592.0, 908.0], [105.0, 908.0]], ('the rights and licenses granted pursuant to this License, and to perform all', 0.9954757690429688)], [[[625.0, 878.0], [1109.0, 878.0], [1109.0, 894.0], [625.0, 894.0]], ('them harmless from and against any and all liability, damage, loss, costs or', 0.9905646443367004)], [[[625.0, 898.0], [1093.0, 898.0], [1093.0, 914.0], [625.0, 914.0]], (\"expenses (including reasonable attorney's fees and costs of settlement)\", 0.9976333975791931)], [[[106.0, 908.0], [489.0, 908.0], [489.0, 924.0], [106.0, 924.0]], (\"of the Author's other obligations contained in this License;\", 0.9946739673614502)], [[[627.0, 917.0], [1008.0, 917.0], [1008.0, 934.0], [627.0, 934.0]], ('incurred by any such party arising out of, or relating to any', 0.9888644218444824)], [[[106.0, 936.0], [549.0, 936.0], [549.0, 952.0], [106.0, 952.0]], ('(ii) the Author has not previously assigned, transferred or otherwise', 0.9897065162658691)], [[[622.0, 934.0], [1053.0, 932.0], [1053.0, 954.0], [622.0, 955.0]], (\" misrepresentation in, or breach or alleged breach of the Author's\", 0.9885432124137878)], [[[106.0, 954.0], [574.0, 954.0], [574.0, 970.0], [106.0, 970.0]], ('encumbered the rights or licenses granted pursuant to this License; and', 0.9988095760345459)], [[[625.0, 957.0], [1053.0, 957.0], [1053.0, 973.0], [625.0, 973.0]], ('representations or warranties in this License. If the Author fails to', 0.9973723888397217)], [[[105.0, 972.0], [590.0, 972.0], [590.0, 993.0], [105.0, 993.0]], (\"that the person executing this License on the Author's behalf is authorized\", 0.9889562726020813)], [[[624.0, 973.0], [1094.0, 973.0], [1094.0, 995.0], [624.0, 995.0]], ('promptly or diligently pursue any defense of any indemnified party, the', 0.9971573352813721)], [[[104.0, 990.0], [167.0, 994.0], [166.0, 1012.0], [103.0, 1008.0]], ('to do so', 0.9601987600326538)], [[[103.0, 1018.0], [580.0, 1020.0], [580.0, 1041.0], [103.0, 1039.0]], ('(iii) the Work and the licenses granted herein do not and will not infringe.', 0.9624654054641724)], [[[624.0, 1011.0], [1103.0, 1013.0], [1103.0, 1035.0], [624.0, 1033.0]], (\"Author's expense. The obligations of this indemnification will survive any\", 0.9917024374008179)], [[[624.0, 1031.0], [891.0, 1033.0], [891.0, 1054.0], [624.0, 1053.0]], ('termination or expiration of this License..', 0.9737772345542908)], [[[106.0, 1041.0], [564.0, 1041.0], [564.0, 1058.0], [106.0, 1058.0]], ('upon, violate or misappropriate any intellectual property rights or any', 0.9997069835662842)], [[[106.0, 1061.0], [560.0, 1061.0], [560.0, 1077.0], [106.0, 1077.0]], ('other proprietary right, contract or other right or interest of any third', 0.9886397123336792)], [[[622.0, 1071.0], [823.0, 1071.0], [823.0, 1092.0], [622.0, 1092.0]], ('3. Creative Commons Licensee', 0.968119204044342)], [[[105.0, 1081.0], [150.0, 1081.0], [150.0, 1097.0], [105.0, 1097.0]], ('party;', 0.9865115284919739)], [[[103.0, 1104.0], [592.0, 1106.0], [592.0, 1127.0], [103.0, 1125.0]], ('(iv) if the Work is a multi-authored Work, the Author has obtained written', 0.9906041026115417)], [[[625.0, 1112.0], [1111.0, 1112.0], [1111.0, 1129.0], [625.0, 1129.0]], ('a. The Author acknowledges and agrees that the Work will be published by', 0.9806262254714966)], [[[106.0, 1127.0], [564.0, 1127.0], [564.0, 1143.0], [106.0, 1143.0]], ('permission from each author of the Work to enter into this License on', 0.9978556036949158)], [[[625.0, 1132.0], [1108.0, 1132.0], [1108.0, 1148.0], [625.0, 1148.0]], ('the Publisher in Asia-Pacific Journal of Ophthalmology (the \"Journal\\') and', 0.987418532371521)], [[[106.0, 1147.0], [580.0, 1147.0], [580.0, 1163.0], [106.0, 1163.0]], ('behalf such author, and each such author has read, understands and has', 0.9909026026725769)], [[[622.0, 1148.0], [1086.0, 1150.0], [1086.0, 1172.0], [622.0, 1170.0]], (' made freely available to users under the terms of one of the following', 0.9876636862754822)], [[[106.0, 1167.0], [338.0, 1167.0], [338.0, 1183.0], [106.0, 1183.0]], ('agreed to the terms of this License;', 0.999852180480957)], [[[625.0, 1172.0], [1101.0, 1172.0], [1101.0, 1188.0], [625.0, 1188.0]], ('Creative Commons Licenses, which license will be selected by the Author', 0.9996407628059387)], [[[105.0, 1191.0], [567.0, 1191.0], [567.0, 1213.0], [105.0, 1213.0]], ('(v) the Author has obtained any necessary releases and permissions to', 0.971836268901825)], [[[624.0, 1188.0], [838.0, 1190.0], [838.0, 1208.0], [624.0, 1206.0]], ('in the Editorial Manager system:.', 0.9698541760444641)], [[[106.0, 1213.0], [549.0, 1213.0], [549.0, 1229.0], [106.0, 1229.0]], ('quote from other sources in the Work and to include any works and', 0.9993990659713745)], [[[106.0, 1233.0], [590.0, 1233.0], [590.0, 1249.0], [106.0, 1249.0]], ('materials in the Work, including all releases from patients whose namesor', 0.9892468452453613)], [[[632.0, 1231.0], [1083.0, 1233.0], [1083.0, 1254.0], [632.0, 1252.0]], ('(i) Creative Commons Attribution 4.0 International Public License, as', 0.9920533895492554)], [[[106.0, 1252.0], [542.0, 1252.0], [542.0, 1269.0], [106.0, 1269.0]], ('likenesses are submitted as part of the Work; all such releases and', 0.9890304207801819)], [[[632.0, 1251.0], [778.0, 1251.0], [778.0, 1272.0], [632.0, 1272.0]], ('currently displayed at', 0.9998978972434998)], [[[106.0, 1272.0], [554.0, 1272.0], [554.0, 1289.0], [106.0, 1289.0]], ('permissions are in full force and effect, and the Author will promptly', 0.9989855289459229)], [[[632.0, 1271.0], [1118.0, 1269.0], [1118.0, 1287.0], [632.0, 1289.0]], ('http://creativecommons.org/licenses/by/4.0/legalcode (the \"CC BY\"). The', 0.9875425100326538)], [[[634.0, 1290.0], [1074.0, 1290.0], [1074.0, 1307.0], [634.0, 1307.0]], ('Author acknowledges and agrees that the Publisher is the exclusive', 0.9927247762680054)], [[[105.0, 1308.0], [200.0, 1310.0], [199.0, 1328.0], [105.0, 1326.0]], ('the Publisher;', 0.9649986624717712)], [[[634.0, 1308.0], [1094.0, 1307.0], [1094.0, 1325.0], [634.0, 1327.0]], ('\"Licensor\", as defined in the CC BY, of the Work and that the Publisher', 0.9942956566810608)], [[[635.0, 1328.0], [1116.0, 1328.0], [1116.0, 1345.0], [635.0, 1345.0]], ('may make the Work freely available to all users under the terms of the CC', 0.9889032244682312)], [[[106.0, 1338.0], [594.0, 1338.0], [594.0, 1355.0], [106.0, 1355.0]], ('(vi) neither the Work nor any content contained in the Work, in whole or in', 0.989327609539032)], [[[634.0, 1346.0], [655.0, 1346.0], [655.0, 1361.0], [634.0, 1361.0]], ('BY.', 0.9969692826271057)], [[[106.0, 1358.0], [587.0, 1358.0], [587.0, 1374.0], [106.0, 1374.0]], ('part, has been published or is being considered for publication other than', 0.9912852644920349)], [[[105.0, 1376.0], [376.0, 1378.0], [376.0, 1396.0], [105.0, 1394.0]], ('in the Journal (as defined in Section 3.a.);', 0.9866155982017517)], [[[105.0, 1402.0], [580.0, 1402.0], [580.0, 1424.0], [105.0, 1424.0]], ('(vii) the Author has disclosed to the Publisher, prior to or simultaneously', 0.975592851638794)], [[[634.0, 1394.0], [1068.0, 1394.0], [1068.0, 1411.0], [634.0, 1411.0]], ('(ii) Creative Commons Attribution-NonCommercial-NoDerivatives', 0.9853495359420776)], [[[105.0, 1422.0], [584.0, 1424.0], [584.0, 1442.0], [105.0, 1440.0]], ('with submission of the Work, all intellectual contributions, technical help,', 0.998428463935852)], [[[635.0, 1414.0], [1006.0, 1414.0], [1006.0, 1431.0], [635.0, 1431.0]], ('4.0 International Public License, as currently displayed at', 0.9982520937919617)], [[[632.0, 1431.0], [1096.0, 1429.0], [1096.0, 1450.0], [632.0, 1452.0]], ('http://creativecommons.org/licenses/by-nc-nd/4.0/legalcode (the \"CC', 0.9847685694694519)], [[[632.0, 1449.0], [1099.0, 1449.0], [1099.0, 1470.0], [632.0, 1470.0]], ('BY-NC-ND\"). The Author acknowledges and agrees that the Publisher is', 0.9939866065979004)], [[[634.0, 1470.0], [1086.0, 1470.0], [1086.0, 1487.0], [634.0, 1487.0]], ('the exclusive \"Licensor\", as defined in the CC BY-NC- ND, of the Work', 0.9866374135017395)], [[[106.0, 1492.0], [534.0, 1492.0], [534.0, 1513.0], [106.0, 1513.0]], ('Asia-Pacific Journal of Ophthalmology - License to Publish', 0.9953252077102661)]]\n",
            "[[[[111.0, 101.0], [536.0, 101.0], [536.0, 122.0], [111.0, 122.0]], (' and that the Publisher may make the Work freely available to all', 0.9906200766563416)], [[[624.0, 104.0], [1104.0, 106.0], [1104.0, 124.0], [624.0, 122.0]], ('d. Governing Law. This License shall be governed in all respects according', 0.9993816018104553)], [[[115.0, 124.0], [394.0, 124.0], [394.0, 140.0], [115.0, 140.0]], ('users under the terms of the CC BY-NC-ND', 0.9867841601371765)], [[[624.0, 124.0], [1104.0, 125.0], [1104.0, 144.0], [624.0, 142.0]], ('to the laws of the State of New York without giving effect to the principles.', 0.9764070510864258)], [[[625.0, 145.0], [792.0, 145.0], [792.0, 162.0], [625.0, 162.0]], ('of conflict of law thereof..', 0.9512476921081543)], [[[105.0, 163.0], [188.0, 163.0], [188.0, 182.0], [105.0, 182.0]], ('4. Royalties', 0.9915441870689392)], [[[625.0, 173.0], [1083.0, 173.0], [1083.0, 190.0], [625.0, 190.0]], ('e. Headings. All headings are for reference purposes only and shall not', 0.9943925142288208)], [[[625.0, 190.0], [1019.0, 191.0], [1019.0, 210.0], [625.0, 208.0]], ('affect the meaning or interpretation of any provision hereof.', 0.9942272901535034)], [[[106.0, 203.0], [587.0, 203.0], [587.0, 219.0], [106.0, 219.0]], ('The Author acknowledges and agrees that this License entitles the Author', 0.9950222373008728)], [[[106.0, 223.0], [559.0, 223.0], [559.0, 239.0], [106.0, 239.0]], ('to no royalties or fees. To the maximum extent permitted by law, the', 0.9808986783027649)], [[[625.0, 219.0], [1098.0, 219.0], [1098.0, 236.0], [625.0, 236.0]], ('g. Severability. If any provision of this License is held to be illegal, invalid,', 0.9795235395431519)], [[[106.0, 243.0], [597.0, 243.0], [597.0, 259.0], [106.0, 259.0]], ('Author waives any and all rights the Author may have to collect royalties or', 0.995794415473938)], [[[625.0, 241.0], [1091.0, 241.0], [1091.0, 257.0], [625.0, 257.0]], ('or unenforceable under the present or future laws, then such provision', 0.9972516894340515)], [[[105.0, 259.0], [584.0, 259.0], [584.0, 280.0], [105.0, 280.0]], ('other fees in relation to the Work or in respect of any use of the Work by', 0.9882656931877136)], [[[625.0, 259.0], [1096.0, 259.0], [1096.0, 276.0], [625.0, 276.0]], ('shall be revised by a court of competent jurisdiction to be enforceable if', 0.9978380799293518)], [[[106.0, 280.0], [319.0, 280.0], [319.0, 297.0], [106.0, 297.0]], ('the Publisher or its sublicensees.', 0.9993067383766174)], [[[625.0, 279.0], [1104.0, 279.0], [1104.0, 295.0], [625.0, 295.0]], ('permitted under applicable law, and otherwise shall be fully severable. In', 0.9863998889923096)], [[[622.0, 295.0], [1096.0, 297.0], [1096.0, 318.0], [622.0, 317.0]], ('any event, this License shall be construed and enforced as if such illegal,', 0.9802252054214478)], [[[105.0, 320.0], [220.0, 320.0], [220.0, 337.0], [105.0, 337.0]], ('5. Miscellaneous', 0.9901875257492065)], [[[625.0, 318.0], [1081.0, 318.0], [1081.0, 335.0], [625.0, 335.0]], ('invalid, or unenforceable provision had never comprised a part of this', 0.9977478981018066)], [[[624.0, 337.0], [1091.0, 335.0], [1091.0, 353.0], [624.0, 355.0]], ('License, and the remaining provisions of this License shall remain in full', 0.993223249912262)], [[[106.0, 360.0], [594.0, 360.0], [594.0, 376.0], [106.0, 376.0]], ('a. Assignment. This License may not be assigned or transferred, in wholeor', 0.99721360206604)], [[[624.0, 355.0], [1053.0, 358.0], [1053.0, 375.0], [624.0, 371.0]], ('force and effect and shall not be affected by the illegal, invalid, or', 0.9858677387237549)], [[[105.0, 376.0], [575.0, 376.0], [575.0, 398.0], [105.0, 398.0]], ('in part, by the Author. The Publisher may freely assign this License. This', 0.977210283279419)], [[[627.0, 380.0], [1026.0, 380.0], [1026.0, 391.0], [627.0, 391.0]], ('unentorceable provision or by its severance from this License.', 0.9656465649604797)], [[[105.0, 396.0], [590.0, 396.0], [590.0, 417.0], [105.0, 417.0]], ('License will be binding upon and inure to the benefit of the Parties hereto', 0.986510694026947)], [[[622.0, 401.0], [1106.0, 403.0], [1106.0, 424.0], [622.0, 422.0]], ('h. Status of the Parties. The Parties are independent contractors. Nothing', 0.9930043816566467)], [[[106.0, 419.0], [462.0, 419.0], [462.0, 436.0], [106.0, 436.0]], ('and their respective successors and permitted assigns.', 0.9973286986351013)], [[[105.0, 446.0], [587.0, 446.0], [587.0, 462.0], [105.0, 462.0]], ('b. Execution. Facsimile or Portable Document Format (PDF) signatures will', 0.9988593459129333)], [[[625.0, 444.0], [1094.0, 444.0], [1094.0, 460.0], [625.0, 460.0]], ('establish any agency, joint venture, partnership or fiduciary relationship', 0.9967679381370544)], [[[105.0, 462.0], [489.0, 464.0], [489.0, 485.0], [105.0, 483.0]], ('be deemed original signatures for purposes of this License..', 0.9801271557807922)], [[[624.0, 460.0], [1098.0, 460.0], [1098.0, 482.0], [624.0, 482.0]], ('between the Parties, and neither Party has the right or authority to bind', 0.9869211316108704)], [[[625.0, 482.0], [1058.0, 482.0], [1058.0, 498.0], [625.0, 498.0]], ('the other Party nor shall either Party be responsible for the acts or', 0.9963617920875549)], [[[106.0, 492.0], [547.0, 492.0], [547.0, 508.0], [106.0, 508.0]], ('c. Entire Agreement; Amendment. This License sets forth the entire', 0.9867612719535828)], [[[105.0, 510.0], [597.0, 510.0], [597.0, 531.0], [105.0, 531.0]], ('agreement of the Parties on the subject hereof and supersedes allprevious', 0.9768837690353394)], [[[625.0, 502.0], [813.0, 502.0], [813.0, 518.0], [625.0, 518.0]], ('omissions of the other Party.', 0.9964037537574768)], [[[624.0, 530.0], [1109.0, 530.0], [1109.0, 546.0], [624.0, 546.0]], ('i. Waiver; Amendment. The waiver by the Publisher of or the failure bythe', 0.9938784837722778)], [[[106.0, 549.0], [594.0, 549.0], [594.0, 571.0], [106.0, 571.0]], ('relating to the rights and duties provided herein, and may not be modified', 0.9865045547485352)], [[[622.0, 546.0], [1106.0, 548.0], [1106.0, 566.0], [622.0, 564.0]], (' Publisher to claim a breach of any provision of this License shall not be, or', 0.9847198128700256)], [[[106.0, 571.0], [489.0, 571.0], [489.0, 587.0], [106.0, 587.0]], ('or amended except by written agreement of the Publisher.', 0.9913410544395447)], [[[624.0, 566.0], [1104.0, 568.0], [1104.0, 586.0], [624.0, 584.0]], ('be held to be, a waiver of any subsequent breach or affect in any way the', 0.9800863265991211)], [[[624.0, 586.0], [1093.0, 587.0], [1093.0, 606.0], [624.0, 604.0]], ('further effectiveness of any such provision. No term or condition of this', 0.9913976192474365)], [[[624.0, 606.0], [1113.0, 606.0], [1113.0, 627.0], [624.0, 627.0]], ('License may be waived except by an agreement by the Publisher inwriting.', 0.9914512634277344)], [[[625.0, 635.0], [1098.0, 635.0], [1098.0, 652.0], [625.0, 652.0]], (\"j. Waiver of Jury Trial. THE AUTHOR WAIVES THE AUTHOR'S RIGHT TO A\", 0.9952621459960938)], [[[625.0, 653.0], [1098.0, 653.0], [1098.0, 670.0], [625.0, 670.0]], ('JURY TRIAL IN CONNECTION WITH ANY DISPUTE OR LEGAL PROCEEDING', 0.9970143437385559)], [[[624.0, 672.0], [1081.0, 675.0], [1081.0, 691.0], [624.0, 688.0]], ('ARISING OUT OF THIS AGREEMENT OR THE SUBJECT MATTER HEREOF.', 0.9780580997467041)], [[[106.0, 1493.0], [531.0, 1493.0], [531.0, 1510.0], [106.0, 1510.0]], ('Asia-Pacific Journal of Ophthalmology - License to Publish', 0.9830989837646484)], [[[1104.0, 1495.0], [1118.0, 1495.0], [1118.0, 1510.0], [1104.0, 1510.0]], ('2', 0.9831958413124084)]]\n"
          ]
        }
      ]
    },
    {
      "cell_type": "code",
      "source": [
        "for page in result:\n",
        "    # lineは(領域の座標, テキスト情報)のタプルです。\n",
        "    # テキスト情報のみを取得します。\n",
        "    for line in page:\n",
        "        print(line[1][0])"
      ],
      "metadata": {
        "colab": {
          "base_uri": "https://localhost:8080/"
        },
        "id": "tvRqTo5w7_dQ",
        "outputId": "d0487814-82e7-4089-8491-8c2f351c7d44"
      },
      "execution_count": 18,
      "outputs": [
        {
          "output_type": "stream",
          "name": "stdout",
          "text": [
            "Asia-Pacific\n",
            "Wolters Kluwer\n",
            "Ophthalmology\n",
            "Asia-Pacific Journal of Ophthalmology - LICENSE TO\n",
            "PUBLISH\n",
            "This LICENSE TO PUBLISH (this \"License\"), is executed by the corresponding\n",
            "financial or material support, and allfinancial or other relationships that\n",
            "author listed as the 'Corresponding Author' in the Editorial Manager\n",
            "may constitute or lead to a conflict of interest;\n",
            "submission site (the \"Author\") to grant a license to the Health Learning,\n",
            "(vii) the Work is not subject to any rights of copyright other than the\n",
            "Research & Practice Division of Wolters Kluwer Health, Inc., a Delaware\n",
            "copyright of the Author and each other author of the Work;\n",
            "corporation, having its principal place of business at Two Commerce\n",
            " Square, 2001 Market Street, Philadelphia, PA 19103 (the \"Publisher\", and\n",
            "(ix) the Work does not and will not violate the publicity or privacy rightsof\n",
            "together with the Author, each, a \"Party\", and together, the \"Parties\").\n",
            " any third party, or libel or slander any third party;\n",
            "(x) the Work does not and will not contain any scandalous, obscene, or\n",
            "1. Grant of License\n",
            "negligently prepared information;\n",
            "The Author hereby grants to the Publisher and its affiliates the exclusive\n",
            "worldwide, royalty free, perpetual (for the duration of the applicable\n",
            "(xi) the Work is not and will not be fraudulent, plagiarized, orincorrectly\n",
            "copyright) right and license to use the Work (as defined in Editorial\n",
            "attributed;\n",
            "Manager) for all commercial or educational purposes, including, but not\n",
            "(xii) no aspect of the Author's personal or professional circumstances\n",
            "limited to, publishing, reproducing, marketing, distributing (themselves\n",
            "currently, or in the past 12 months, causes the Author to have a conflict of\n",
            "and through distributors), sublicensing, and selling copies of the Work\n",
            "interest with respect to the Work;\n",
            "throughout the world for the Term. If the Author is a United States\n",
            "government employee, such license grant shall be limited to the extent the\n",
            "(xili) neither the Author, nor any member of the Author's immediate\n",
            "Author is able to grant such license..\n",
            "family, nor any individual or entity with whom or which the Author has or\n",
            "has had a significant working relationship has received anything of value\n",
            " from a commercial party related directly or indirectly to the subject of the\n",
            "2. Warranties, Indemnification, and Limitation of Liability\n",
            "Work; and\n",
            "a. The Author represents and warrants to the Publisher that:\n",
            "b. The Author hereby indemnifies the Publisher and its directors, officers,\n",
            "(i) the Author has the right and power to enter into this License, to grant\n",
            "employees, agents, and representatives and agrees to defend and hold\n",
            "the rights and licenses granted pursuant to this License, and to perform all\n",
            "them harmless from and against any and all liability, damage, loss, costs or\n",
            "expenses (including reasonable attorney's fees and costs of settlement)\n",
            "of the Author's other obligations contained in this License;\n",
            "incurred by any such party arising out of, or relating to any\n",
            "(ii) the Author has not previously assigned, transferred or otherwise\n",
            " misrepresentation in, or breach or alleged breach of the Author's\n",
            "encumbered the rights or licenses granted pursuant to this License; and\n",
            "representations or warranties in this License. If the Author fails to\n",
            "that the person executing this License on the Author's behalf is authorized\n",
            "promptly or diligently pursue any defense of any indemnified party, the\n",
            "to do so\n",
            "(iii) the Work and the licenses granted herein do not and will not infringe.\n",
            "Author's expense. The obligations of this indemnification will survive any\n",
            "termination or expiration of this License..\n",
            "upon, violate or misappropriate any intellectual property rights or any\n",
            "other proprietary right, contract or other right or interest of any third\n",
            "3. Creative Commons Licensee\n",
            "party;\n",
            "(iv) if the Work is a multi-authored Work, the Author has obtained written\n",
            "a. The Author acknowledges and agrees that the Work will be published by\n",
            "permission from each author of the Work to enter into this License on\n",
            "the Publisher in Asia-Pacific Journal of Ophthalmology (the \"Journal') and\n",
            "behalf such author, and each such author has read, understands and has\n",
            " made freely available to users under the terms of one of the following\n",
            "agreed to the terms of this License;\n",
            "Creative Commons Licenses, which license will be selected by the Author\n",
            "(v) the Author has obtained any necessary releases and permissions to\n",
            "in the Editorial Manager system:.\n",
            "quote from other sources in the Work and to include any works and\n",
            "materials in the Work, including all releases from patients whose namesor\n",
            "(i) Creative Commons Attribution 4.0 International Public License, as\n",
            "likenesses are submitted as part of the Work; all such releases and\n",
            "currently displayed at\n",
            "permissions are in full force and effect, and the Author will promptly\n",
            "http://creativecommons.org/licenses/by/4.0/legalcode (the \"CC BY\"). The\n",
            "Author acknowledges and agrees that the Publisher is the exclusive\n",
            "the Publisher;\n",
            "\"Licensor\", as defined in the CC BY, of the Work and that the Publisher\n",
            "may make the Work freely available to all users under the terms of the CC\n",
            "(vi) neither the Work nor any content contained in the Work, in whole or in\n",
            "BY.\n",
            "part, has been published or is being considered for publication other than\n",
            "in the Journal (as defined in Section 3.a.);\n",
            "(vii) the Author has disclosed to the Publisher, prior to or simultaneously\n",
            "(ii) Creative Commons Attribution-NonCommercial-NoDerivatives\n",
            "with submission of the Work, all intellectual contributions, technical help,\n",
            "4.0 International Public License, as currently displayed at\n",
            "http://creativecommons.org/licenses/by-nc-nd/4.0/legalcode (the \"CC\n",
            "BY-NC-ND\"). The Author acknowledges and agrees that the Publisher is\n",
            "the exclusive \"Licensor\", as defined in the CC BY-NC- ND, of the Work\n",
            "Asia-Pacific Journal of Ophthalmology - License to Publish\n",
            " and that the Publisher may make the Work freely available to all\n",
            "d. Governing Law. This License shall be governed in all respects according\n",
            "users under the terms of the CC BY-NC-ND\n",
            "to the laws of the State of New York without giving effect to the principles.\n",
            "of conflict of law thereof..\n",
            "4. Royalties\n",
            "e. Headings. All headings are for reference purposes only and shall not\n",
            "affect the meaning or interpretation of any provision hereof.\n",
            "The Author acknowledges and agrees that this License entitles the Author\n",
            "to no royalties or fees. To the maximum extent permitted by law, the\n",
            "g. Severability. If any provision of this License is held to be illegal, invalid,\n",
            "Author waives any and all rights the Author may have to collect royalties or\n",
            "or unenforceable under the present or future laws, then such provision\n",
            "other fees in relation to the Work or in respect of any use of the Work by\n",
            "shall be revised by a court of competent jurisdiction to be enforceable if\n",
            "the Publisher or its sublicensees.\n",
            "permitted under applicable law, and otherwise shall be fully severable. In\n",
            "any event, this License shall be construed and enforced as if such illegal,\n",
            "5. Miscellaneous\n",
            "invalid, or unenforceable provision had never comprised a part of this\n",
            "License, and the remaining provisions of this License shall remain in full\n",
            "a. Assignment. This License may not be assigned or transferred, in wholeor\n",
            "force and effect and shall not be affected by the illegal, invalid, or\n",
            "in part, by the Author. The Publisher may freely assign this License. This\n",
            "unentorceable provision or by its severance from this License.\n",
            "License will be binding upon and inure to the benefit of the Parties hereto\n",
            "h. Status of the Parties. The Parties are independent contractors. Nothing\n",
            "and their respective successors and permitted assigns.\n",
            "b. Execution. Facsimile or Portable Document Format (PDF) signatures will\n",
            "establish any agency, joint venture, partnership or fiduciary relationship\n",
            "be deemed original signatures for purposes of this License..\n",
            "between the Parties, and neither Party has the right or authority to bind\n",
            "the other Party nor shall either Party be responsible for the acts or\n",
            "c. Entire Agreement; Amendment. This License sets forth the entire\n",
            "agreement of the Parties on the subject hereof and supersedes allprevious\n",
            "omissions of the other Party.\n",
            "i. Waiver; Amendment. The waiver by the Publisher of or the failure bythe\n",
            "relating to the rights and duties provided herein, and may not be modified\n",
            " Publisher to claim a breach of any provision of this License shall not be, or\n",
            "or amended except by written agreement of the Publisher.\n",
            "be held to be, a waiver of any subsequent breach or affect in any way the\n",
            "further effectiveness of any such provision. No term or condition of this\n",
            "License may be waived except by an agreement by the Publisher inwriting.\n",
            "j. Waiver of Jury Trial. THE AUTHOR WAIVES THE AUTHOR'S RIGHT TO A\n",
            "JURY TRIAL IN CONNECTION WITH ANY DISPUTE OR LEGAL PROCEEDING\n",
            "ARISING OUT OF THIS AGREEMENT OR THE SUBJECT MATTER HEREOF.\n",
            "Asia-Pacific Journal of Ophthalmology - License to Publish\n",
            "2\n"
          ]
        }
      ]
    },
    {
      "cell_type": "code",
      "source": [],
      "metadata": {
        "id": "OTOaGGwD8DLv"
      },
      "execution_count": null,
      "outputs": []
    }
  ]
}